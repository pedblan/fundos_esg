


# O módulo scraping faz a validação dos arquivos descarregados, listando os corrompidos.
# Caso haja algum, é necessário descarregá-lo manualmente de outra fonte.
# Fazer uma chamada da função para cada página de resultado de pesquisa. Pesquisar manualmente, copiar e colar a URL da página. 
import scraping
metadados1 = scraping.anbima() # Pesquisa por fundos classificados pela ANBIMA como ESG


metadados2 = scraping.anbima() # Resultados de pesquisa livre por "ESG" - primeira página



metadados3 = scraping.anbima() # Resultados de pesquisa livre por "ESG" - segunda página



## Eliminar duplicatas
# Combine as listas
metadados_combinados = metadados1 + metadados2 + metadados3

# Eliminar duplicatas baseado em 'URL do Fundo'
metadados_unicos = {item['URL do Fundo']: item for item in metadados_combinados}.values()

metadados = list(metadados_unicos)


## Salva metadados em arquivo json. 

import json
with open('metadados.json', 'w', encoding='utf-8') as f:
        json.dump(metadados, f, ensure_ascii=False, indent=4)






# Problema número 1 
for dicionario in metadados:
    for chave, valor in dicionario.items():
        if valor == 'Baixar':
            if chave == 'Saldo mínimo aplicado':
                dicionario[chave] = "n/d"
            elif chave == 'Regulamento\nData de atualização indisponível':
                dicionario[chave] = "n/d"
        elif valor == '':
            dicionario[chave] = "n/d"
        elif valor == '-':
            dicionario[chave] = "n/d"


# Problema número 2
import re
regex_data = r'\d{2}/\d{2}/\d{4}'
for dicionario in metadados:
    # Iterar por uma cópia do dicionário para evitar RuntimeError ao modificar o tamanho durante a iteração
    for chave in list(dicionario.keys()):
        # Verificar se a chave contém a informação de regulamento
        if "Regulamento" in chave:
            # Tentar extrair a data
            match = re.search(regex_data, chave)
            if match:
                # Se uma data for encontrada, usá-la como valor
                novo_valor = match.group()
            else:
                # Se não houver data, definir como "n/d"
                novo_valor = "n/d"
            # Renomear a chave e atualizar o valor
            dicionario['Última atualização'] = novo_valor
            # Remover a chave antiga
            del dicionario[chave]
    for chave, valor in dicionario.items():
        # Procurar pela data no valor atual
        if re.search(regex_data, chave):
            dicionario[chave] = re.search(regex_data, chave)
            dicionario[chave_data_atualizacao] = dicionario.pop(chave)
        elif 'indisponível' in chave:
            dicionario[chave] = 'n/d'
            dicionario[chave_data_atualizacao] = dicionario.pop(chave)


# Problema número 3
for dicionario in metadados:
    # Iterar por uma cópia do dicionário para evitar RuntimeError ao modificar o tamanho durante a iteração
    for chave in list(dicionario.keys()):
        if chave == '':
            del dicionario[chave]
        


# Problema número 4
# Expressão regular para extrair o valor da cota e a rentabilidade
regex = r'R\$ ([\d,\.]+)(?: ([+-]?\d{1,2},\d{2}%))?'

for dicionario in metadados:
    valor_original = dicionario.get('Valor da cota / Rentabilidade 12 meses', '')
    match = re.match(regex, valor_original.replace('.', ','))
    
    if match:
        valor_da_cota = match.group(1).replace(',', '.')
        rentabilidade = match.group(2) if match.group(2) else "n/d"
        
        # Atualizar o dicionário com novas chaves
        dicionario['Valor da cota'] = valor_da_cota
        dicionario['Rentabilidade 12 meses'] = rentabilidade

        # Remover a chave original, se necessário
        del dicionario['Valor da cota / Rentabilidade 12 meses']


# Salvar metadados.json
with open('metadados.json', 'w', encoding='utf-8') as f:
        json.dump(metadados, f, ensure_ascii=False, indent=4)





import converte_txt
converte_txt.converter()





import filtro
filtro.metodologias()





prompt = """No documento estão trechos de documentos relacionados a fundos de investimento. Leia e interprete cada trecho e faça a seguinte série de tarefas. Em primeiro lugar, identifique origem da metodologia empregada, se "interna" ou "externa". Segundo, sumarize os métodos que o fundo emprega para selecionar ativos. Terceiro, identifique a principal fonte ou referência em que se baseia a metodologia ESG empregada pelo fundo, usando NER (Named-Entity Recognition). Quarto, extraia a URL da referência.
            Estruture a resposta em um dicionário com essas quatro chaves: origem, métodos, referência, URL da referência. Os valores podem ser strings ou tuples. Quando tiver dúvida, assinale com uma tuple, em que o primeiro item é a resposta, o segundo é a marca de dúvida ("resposta, dúvida"). Use 'n/d' quando não conseguir completar a tarefa, ou quando não encontrar um valor para a chave. Não faça quebras de linha. Use até 200 tokens para a resposta toda; se necessário, sumarize os valores, exceto pela URL. 
    ---
    Exemplo 1:
    "A GESTORA possui Estratégia de Sustentabilidade que descreve seus objetivos e metodologia de investimento sustentável, em linha com as Regras e Procedimentos para Investimentos em Ativos Sustentáveis publicada pela Anbima."
    {origem: "interna", método: "n/d", referência: "Anbima", URL: "n/d"}
    ---
    Exemplo 2:
    "O FUNDO tem como OBJETIVO promover a equidade de gênero e proporcionar retornos absolutos no médio e longo prazo, através de investimentos realizados em ativos de renda variável e de engajamento junto às empresas elegíveis.  Artigo 3º - Para o atingimento do Objetivo de Investimento Sustentável, o FUNDO aloca seus recursos em empresas que promovem equidade de gênero, utilizando filtros positivos e best in class para a seleção dos ativos.  Integram o critério de elegibilidade     empresas, preponderantemente, signatárias dos Princípios de Empoderamento Feminino da  ONU Mulheres (WEPs), observando e  considerando a incorporação da equidade de  gênero  pelas  empresas  e  suas  estratégias para ampliação da pauta."
    {origem: "interna", método: "filtros positivos e best in class", referência: "Princípios de Empoderamento Feminino da ONU Mulheres", URL: "n/d"} 
    ---
    Exemplo 3:
    "O processo de seleção de ativos considera diversos fatores de sustentabilidade, assinalados pelas melhores práticas da indústria."
    {origem: "interna", método: "n/d", referência: "n/d", URL: "n/d"}  
    ---
    Exemplo 4:
    "O Formulário referente a metodologia ASG do FUNDO pode ser
    encontrada no site da GESTORA, conforme 'link' de acesso abaixo:
    https://www.cognitoforms.com/ANBIMA/FormulárioMetodologiaASG#RVLP8HQMqu
    U4iPNE9euhb3PY7M1jYt-QrtI2x4jKuGQ$*."
    {origem: "interna", método: "n/d", referência: "n/d", URL: "https://www.cognitoforms.com/ANBIMA/FormulárioMetodologiaASG#RVLP8HQMqu
     U4iPNE9euhb3PY7M1jYt-QrtI2x4jKuGQ$*"}  
    ---
    Exemplo 5:
    "O FUNDO tem como objetivo de Investimento Sustentável capturar retornos por meio de investimentos preponderantemente em carteira de ações de empresas com alto nível de sustentabilidade e governança corporativa, através da criação de carteira de investimento teórica baseada em todos os ativos listados na B3,  selecionando os emissores que possuam o rating ESG equiparado ou superior ao rating ESG setorial (Best in Class) e conforme critério de seleção de quartil de qualidade definido pela Bradesco Asset."
    {origem: "interna", método: "carteira de investimento teórica baseada em todos os ativos listados na B3, Best in Class, critério de seleção de quartil de qualidade", referência: "rating ESG setorial, Bradesco Asset", URL: "n/d"}
    """


# Próximo passo
import analise
metadados_temp = analise.anbima(prompt)





# Converter metadados para um dicionário com 'Fundo' como chave
metadados_dict = {item['Fundo']: item for item in metadados}

# Atualizar/Adicionar items de metadados_temp em metadados_dict
for item in metadados_temp:
    metadados_dict[item['Fundo']] = item

# Converter de volta para uma lista de dicionários e atualizar a lista metadados original
metadados = list(metadados_dict.values())

# Removendo duplicatas com base em uma chave única (por exemplo, 'URL do Fundo')
metadados_unicos = {each['Fundo']: each for each in metadados}.values()
metadados = list(metadados_unicos)

# Remove os caracteres de nova linha
for dicionario in metadados:
    for chave, valor in dicionario.items():
        if isinstance(valor, str):  
            dicionario[chave] = valor.replace('\n', '')  

# Salvar arquivo de metadados
with open('metadados.json', 'w', encoding='utf-8') as f:
                json.dump(metadados, f, ensure_ascii=False, indent=4)






duvidas = []
for fundo in metadados:
    metodologia = fundo.get("Metodologia", "")  # Usa .get para evitar KeyError se "Metodologia" não estiver presente
    if "dúvida" in metodologia:
        print(f"Encontrado 'dúvida' em {fundo['Fundo']}")
        duvidas.append(fundo['Fundo'])



#### Depois de conferir cada dúvida no texto do regulamento, limpar o arquivo de metadados
import re
regex = r'\([^\)]*dúvida[^\)]*\)'

for fundo in metadados:
    metodologia = fundo.get("Metodologia", "")
    # Aplicando a regex para remover a ocorrência complexa de 'dúvida'
    nova_metodologia = re.sub(regex, '', metodologia, flags=re.DOTALL)
    fundo["Metodologia"] = nova_metodologia.strip()




metadados


padroes = {
    'Metodologia ASG - origem': r'origem:\s*"([^"]+)"',
    # Adicionando variação para 'método' e 'métodos'
    'Metodologia ASG - métodos': r'método[s]*:\s*"([^"]+)"',
    'Metodologia ASG - referência': r'referência:\s*"([^"]+)"',
    # Adicionando variação para 'URL' e 'URL da referência'
    'Metodologia ASG - URL': r'URL( da referência)*:\s*"([^"]+)"'
}

## PROBLEMA: Url às vezes não ficou separado

for fundo in metadados:
    metodologia_str = fundo.get('Metodologia', '')

    for chave_nova, padrao in padroes.items():
        # Busca pela correspondência usando o padrão atualizado
        match = re.search(padrao, metodologia_str)
        fundo[chave_nova] = match.group(1) if match else ''


# Salvar arquivo de metadados
with open('metadados.json', 'w', encoding='utf-8') as f:
                json.dump(metadados, f, ensure_ascii=False, indent=4)





import json
with open('metadados.json', 'r', encoding='utf-8') as f:
                metadados = json.load(f)


metadados


### Clusterizar conforme método





### Clusterizar conforme objetivos





### Clusterizar todos os documentos e descobrir distinctive words





### Fazer TF-IDF de todos os documentos





### Fazer topic analysis dos documentos






