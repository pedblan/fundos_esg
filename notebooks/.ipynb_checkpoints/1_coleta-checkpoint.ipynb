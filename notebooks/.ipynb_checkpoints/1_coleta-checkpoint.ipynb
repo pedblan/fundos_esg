{
 "cells": [
  {
   "cell_type": "markdown",
   "id": "c6f010fb-a746-41bf-920c-ad43c6d2f116",
   "metadata": {},
   "source": [
    "# 1. Coleta de dados\n",
    "- Por meio de scraping do sítio virtual da ANBIMA, entre os resultados de pesquisa de fundos ESG.\n",
    "- Faz primeiro o scraping dos links das páginas de resultados de pesquisa. Em seguida, acessa cada um dos links, faz o scraping da página respectiva e descarrega o regulamento. Trata os erros numa segunda tentativa, ressaltando a necessidade de o usuário descarregar os regulamentos manualmente. Finalmente, corrige erros de formatação.\n",
    "    - Requer instalação de webdriver Chromedriver na variável de ambiente PATH. Mais informações em README.md.\n",
    "- Converte arquivos pdf em txt e salva na pasta ..data/txt."
   ]
  },
  {
   "cell_type": "markdown",
   "id": "490088a0-26eb-4700-b8aa-bb3c6cd6bb30",
   "metadata": {},
   "source": [
    "## Scraping"
   ]
  },
  {
   "cell_type": "markdown",
   "id": "b53ca213-22b5-47b2-abd2-e4d01e086ddc",
   "metadata": {},
   "source": [
    "### Elabora lista de todos os links"
   ]
  },
  {
   "cell_type": "code",
   "execution_count": 1,
   "id": "0a1fa23b-7a7a-4588-bbfb-70164d4bc129",
   "metadata": {
    "scrolled": true
   },
   "outputs": [],
   "source": [
    "import sys\n",
    "sys.path.append('../src')\n",
    "import os\n",
    "links = []\n",
    "erros = []\n",
    "metadados = []\n",
    "diretorio = '../data/pdf/'\n",
    "if not os.path.exists(diretorio):\n",
    "    # Se não existir, cria o diretório\n",
    "    os.makedirs(diretorio)\n",
    "\n",
    "\n",
    "\n"
   ]
  },
  {
   "cell_type": "code",
   "execution_count": 2,
   "id": "519c23d3-b77d-4a26-bc73-84417e8b49f2",
   "metadata": {},
   "outputs": [],
   "source": [
    "links = scraping.anbima('https://data.anbima.com.br/fundos?page=1&size=100&asg=Sim') # Primeira página de pesquisa"
   ]
  },
  {
   "cell_type": "code",
   "execution_count": 3,
   "id": "730f4393-c386-49e7-9bce-1e95898367d4",
   "metadata": {},
   "outputs": [],
   "source": [
    "links2 = scraping.anbima('https://data.anbima.com.br/busca/fundos/?q=esg&page=1&size=100&') # Segunda página de pesquisa"
   ]
  },
  {
   "cell_type": "code",
   "execution_count": 4,
   "id": "bfb2630f-fcf1-4497-87af-664c96c2e5b8",
   "metadata": {},
   "outputs": [],
   "source": [
    "links3 = scraping.anbima('https://data.anbima.com.br/busca/fundos/?q=esg&page=2&size=100&') # Terceira página de pesquisa"
   ]
  },
  {
   "cell_type": "code",
   "execution_count": 5,
   "id": "ab6cfd5c-0a13-4788-99a3-50d1acd83e25",
   "metadata": {},
   "outputs": [],
   "source": [
    "total_links = links + links2 + links3\n",
    "total_links = list(set(total_links)) # Eliminar links duplicados\n"
   ]
  },
  {
   "cell_type": "markdown",
   "id": "4b2ee33b-4787-46d7-ba5b-f10eaee2d519",
   "metadata": {},
   "source": [
    "### Descarrega regulamentos"
   ]
  },
  {
   "cell_type": "code",
   "execution_count": null,
   "id": "41861844-def2-4f17-ade9-670d4bd44a5d",
   "metadata": {
    "scrolled": true
   },
   "outputs": [
    {
     "name": "stdout",
     "output_type": "stream",
     "text": [
      "Processando 1/171. Faltam 170 outros.\n",
      "Erro ao fazer scraping do link https://data.anbima.com.br/fundos/559806. Tentar novamente na próxima célula.\n",
      "Processando 2/171. Faltam 169 outros.\n",
      "Erro ao fazer scraping do link https://data.anbima.com.br/fundos/563201. Tentar novamente na próxima célula.\n",
      "Processando 3/171. Faltam 168 outros.\n",
      "Erro ao fazer scraping do link https://data.anbima.com.br/fundos/741442. Tentar novamente na próxima célula.\n",
      "Processando 4/171. Faltam 167 outros.\n",
      "Erro ao fazer scraping do link https://data.anbima.com.br/fundos/557374. Tentar novamente na próxima célula.\n",
      "Processando 5/171. Faltam 166 outros.\n",
      "Erro ao fazer scraping do link https://data.anbima.com.br/fundos/648663. Tentar novamente na próxima célula.\n",
      "Processando 6/171. Faltam 165 outros.\n",
      "Erro ao fazer scraping do link https://data.anbima.com.br/fundos/520901. Tentar novamente na próxima célula.\n",
      "Processando 7/171. Faltam 164 outros.\n",
      "Erro ao fazer scraping do link https://data.anbima.com.br/fundos/527777. Tentar novamente na próxima célula.\n",
      "Processando 8/171. Faltam 163 outros.\n",
      "Erro ao fazer scraping do link https://data.anbima.com.br/fundos/587915. Tentar novamente na próxima célula.\n",
      "Processando 9/171. Faltam 162 outros.\n",
      "Erro ao fazer scraping do link https://data.anbima.com.br/fundos/688002. Tentar novamente na próxima célula.\n",
      "Processando 10/171. Faltam 161 outros.\n",
      "Erro ao fazer scraping do link https://data.anbima.com.br/fundos/549029. Tentar novamente na próxima célula.\n",
      "Processando 11/171. Faltam 160 outros.\n",
      "Erro ao fazer scraping do link https://data.anbima.com.br/fundos/576859. Tentar novamente na próxima célula.\n",
      "Processando 12/171. Faltam 159 outros.\n",
      "Erro ao fazer scraping do link https://data.anbima.com.br/fundos/493661. Tentar novamente na próxima célula.\n",
      "Processando 13/171. Faltam 158 outros.\n",
      "Erro ao fazer scraping do link https://data.anbima.com.br/fundos/567469. Tentar novamente na próxima célula.\n",
      "Processando 14/171. Faltam 157 outros.\n",
      "Erro ao fazer scraping do link https://data.anbima.com.br/fundos/558540. Tentar novamente na próxima célula.\n",
      "Processando 15/171. Faltam 156 outros.\n",
      "Erro ao fazer scraping do link https://data.anbima.com.br/fundos/606881. Tentar novamente na próxima célula.\n",
      "Processando 16/171. Faltam 155 outros.\n",
      "Erro ao fazer scraping do link https://data.anbima.com.br/fundos/486949. Tentar novamente na próxima célula.\n",
      "Processando 17/171. Faltam 154 outros.\n",
      "Erro ao fazer scraping do link https://data.anbima.com.br/fundos/593672. Tentar novamente na próxima célula.\n",
      "Processando 18/171. Faltam 153 outros.\n",
      "Erro ao fazer scraping do link https://data.anbima.com.br/fundos/586137. Tentar novamente na próxima célula.\n",
      "Processando 19/171. Faltam 152 outros.\n",
      "Erro ao fazer scraping do link https://data.anbima.com.br/fundos/198935. Tentar novamente na próxima célula.\n",
      "Processando 20/171. Faltam 151 outros.\n",
      "Erro ao fazer scraping do link https://data.anbima.com.br/fundos/603791. Tentar novamente na próxima célula.\n",
      "Processando 21/171. Faltam 150 outros.\n",
      "Erro ao fazer scraping do link https://data.anbima.com.br/fundos/585890. Tentar novamente na próxima célula.\n",
      "Processando 22/171. Faltam 149 outros.\n",
      "Erro ao fazer scraping do link https://data.anbima.com.br/fundos/686840. Tentar novamente na próxima célula.\n",
      "Processando 23/171. Faltam 148 outros.\n",
      "Erro ao fazer scraping do link https://data.anbima.com.br/fundos/580139. Tentar novamente na próxima célula.\n",
      "Processando 24/171. Faltam 147 outros.\n",
      "Erro ao fazer scraping do link https://data.anbima.com.br/fundos/546380. Tentar novamente na próxima célula.\n",
      "Processando 25/171. Faltam 146 outros.\n",
      "Erro ao fazer scraping do link https://data.anbima.com.br/fundos/552585. Tentar novamente na próxima célula.\n",
      "Processando 26/171. Faltam 145 outros.\n",
      "Erro ao fazer scraping do link https://data.anbima.com.br/fundos/290246. Tentar novamente na próxima célula.\n",
      "Processando 27/171. Faltam 144 outros.\n",
      "Erro ao fazer scraping do link https://data.anbima.com.br/fundos/729639. Tentar novamente na próxima célula.\n",
      "Processando 28/171. Faltam 143 outros.\n",
      "Erro ao fazer scraping do link https://data.anbima.com.br/fundos/562637. Tentar novamente na próxima célula.\n",
      "Processando 29/171. Faltam 142 outros.\n",
      "Erro ao fazer scraping do link https://data.anbima.com.br/fundos/701890. Tentar novamente na próxima célula.\n",
      "Processando 30/171. Faltam 141 outros.\n",
      "Erro ao fazer scraping do link https://data.anbima.com.br/fundos/570451. Tentar novamente na próxima célula.\n",
      "Processando 31/171. Faltam 140 outros.\n",
      "Erro ao fazer scraping do link https://data.anbima.com.br/fundos/555304. Tentar novamente na próxima célula.\n",
      "Processando 32/171. Faltam 139 outros.\n",
      "Erro ao fazer scraping do link https://data.anbima.com.br/fundos/607045. Tentar novamente na próxima célula.\n",
      "Processando 33/171. Faltam 138 outros.\n",
      "Erro ao fazer scraping do link https://data.anbima.com.br/fundos/561037. Tentar novamente na próxima célula.\n",
      "Processando 34/171. Faltam 137 outros.\n",
      "Erro ao fazer scraping do link https://data.anbima.com.br/fundos/608963. Tentar novamente na próxima célula.\n",
      "Processando 35/171. Faltam 136 outros.\n",
      "Erro ao fazer scraping do link https://data.anbima.com.br/fundos/599328. Tentar novamente na próxima célula.\n",
      "Processando 36/171. Faltam 135 outros.\n",
      "Erro ao fazer scraping do link https://data.anbima.com.br/fundos/628417. Tentar novamente na próxima célula.\n",
      "Processando 37/171. Faltam 134 outros.\n",
      "Erro ao fazer scraping do link https://data.anbima.com.br/fundos/543640. Tentar novamente na próxima célula.\n",
      "Processando 38/171. Faltam 133 outros.\n",
      "Erro ao fazer scraping do link https://data.anbima.com.br/fundos/698679. Tentar novamente na próxima célula.\n",
      "Processando 39/171. Faltam 132 outros.\n",
      "Erro ao fazer scraping do link https://data.anbima.com.br/fundos/618871. Tentar novamente na próxima célula.\n",
      "Processando 40/171. Faltam 131 outros.\n",
      "Erro ao fazer scraping do link https://data.anbima.com.br/fundos/568341. Tentar novamente na próxima célula.\n",
      "Processando 41/171. Faltam 130 outros.\n",
      "Erro ao fazer scraping do link https://data.anbima.com.br/fundos/522384. Tentar novamente na próxima célula.\n",
      "Processando 42/171. Faltam 129 outros.\n",
      "Erro ao fazer scraping do link https://data.anbima.com.br/fundos/696447. Tentar novamente na próxima célula.\n",
      "Processando 43/171. Faltam 128 outros.\n",
      "Erro ao fazer scraping do link https://data.anbima.com.br/fundos/535818. Tentar novamente na próxima célula.\n",
      "Processando 44/171. Faltam 127 outros.\n",
      "Erro ao fazer scraping do link https://data.anbima.com.br/fundos/563341. Tentar novamente na próxima célula.\n",
      "Processando 45/171. Faltam 126 outros.\n",
      "Erro ao fazer scraping do link https://data.anbima.com.br/fundos/568694. Tentar novamente na próxima célula.\n",
      "Processando 46/171. Faltam 125 outros.\n",
      "Erro ao fazer scraping do link https://data.anbima.com.br/fundos/549185. Tentar novamente na próxima célula.\n",
      "Processando 47/171. Faltam 124 outros.\n",
      "Erro ao fazer scraping do link https://data.anbima.com.br/fundos/580740. Tentar novamente na próxima célula.\n",
      "Processando 48/171. Faltam 123 outros.\n",
      "Erro ao fazer scraping do link https://data.anbima.com.br/fundos/578411. Tentar novamente na próxima célula.\n",
      "Processando 49/171. Faltam 122 outros.\n",
      "Erro ao fazer scraping do link https://data.anbima.com.br/fundos/599468. Tentar novamente na próxima célula.\n",
      "Processando 50/171. Faltam 121 outros.\n",
      "Erro ao fazer scraping do link https://data.anbima.com.br/fundos/520578. Tentar novamente na próxima célula.\n",
      "Processando 51/171. Faltam 120 outros.\n",
      "Erro ao fazer scraping do link https://data.anbima.com.br/fundos/552704. Tentar novamente na próxima célula.\n",
      "Processando 52/171. Faltam 119 outros.\n",
      "Erro ao fazer scraping do link https://data.anbima.com.br/fundos/094684. Tentar novamente na próxima célula.\n",
      "Processando 53/171. Faltam 118 outros.\n",
      "Erro ao fazer scraping do link https://data.anbima.com.br/fundos/657018. Tentar novamente na próxima célula.\n",
      "Processando 54/171. Faltam 117 outros.\n",
      "Erro ao fazer scraping do link https://data.anbima.com.br/fundos/608297. Tentar novamente na próxima célula.\n",
      "Processando 55/171. Faltam 116 outros.\n",
      "Erro ao fazer scraping do link https://data.anbima.com.br/fundos/648582. Tentar novamente na próxima célula.\n",
      "Processando 56/171. Faltam 115 outros.\n",
      "Erro ao fazer scraping do link https://data.anbima.com.br/fundos/570631. Tentar novamente na próxima célula.\n",
      "Processando 57/171. Faltam 114 outros.\n",
      "Erro ao fazer scraping do link https://data.anbima.com.br/fundos/613630. Tentar novamente na próxima célula.\n",
      "Processando 58/171. Faltam 113 outros.\n",
      "Erro ao fazer scraping do link https://data.anbima.com.br/fundos/619213. Tentar novamente na próxima célula.\n",
      "Processando 59/171. Faltam 112 outros.\n",
      "Erro ao fazer scraping do link https://data.anbima.com.br/fundos/624179. Tentar novamente na próxima célula.\n",
      "Processando 60/171. Faltam 111 outros.\n",
      "Erro ao fazer scraping do link https://data.anbima.com.br/fundos/567779. Tentar novamente na próxima célula.\n",
      "Processando 61/171. Faltam 110 outros.\n",
      "Erro ao fazer scraping do link https://data.anbima.com.br/fundos/576840. Tentar novamente na próxima célula.\n",
      "Processando 62/171. Faltam 109 outros.\n",
      "Erro ao fazer scraping do link https://data.anbima.com.br/fundos/546364. Tentar novamente na próxima célula.\n",
      "Processando 63/171. Faltam 108 outros.\n",
      "Erro ao fazer scraping do link https://data.anbima.com.br/fundos/565520. Tentar novamente na próxima célula.\n",
      "Processando 64/171. Faltam 107 outros.\n",
      "Erro ao fazer scraping do link https://data.anbima.com.br/fundos/546461. Tentar novamente na próxima célula.\n",
      "Processando 65/171. Faltam 106 outros.\n"
     ]
    }
   ],
   "source": [
    "import scraping\n",
    "\n",
    "\n",
    "\n",
    "\n",
    "# Faz o scraping de cada fundo e baixa regulamentos\n",
    "for indice, link in enumerate(total_links):\n",
    "    try:\n",
    "        print(f'Processando {indice + 1}/{len(total_links)}. Faltam {len(total_links) - indice - 1} outros.')\n",
    "        scraping.scraping_e_download_regulamento(link, metadados, erros, diretorio)\n",
    "    except:\n",
    "        erros.append(link)\n",
    "        print(f\"Erro ao fazer scraping do link {link}. Tentar novamente na próxima célula.\")\n",
    "        continue\n",
    "\n",
    "print(f\"Lista de erros: {erros}.\")\n",
    "\n",
    "\n",
    "    "
   ]
  },
  {
   "cell_type": "markdown",
   "id": "244960ee-eede-40d0-a58e-20dda6a77d00",
   "metadata": {},
   "source": [
    "### Processa erros. Faz apenas scraping, sem descarregar regulamentos.\n",
    "- observação: descarregar regulamentos manualmente, mediante pesquisa na internet"
   ]
  },
  {
   "cell_type": "code",
   "execution_count": null,
   "id": "06fa170c-7d15-4d93-9c3e-3d65548ed943",
   "metadata": {},
   "outputs": [],
   "source": [
    "dados_erros = [] # Tenta de novo o scraping dos fundos que deram erro, mas não tenta descarregar os regulamentos. Isso precisa ser feito manualmente. \n",
    "for link in erros:\n",
    "    dados_erros.append(scraping.apenas_scraping(link))\n",
    "\n",
    "    "
   ]
  },
  {
   "cell_type": "code",
   "execution_count": null,
   "id": "7ed605a5-58b5-4012-93a2-53f5e5adeae2",
   "metadata": {},
   "outputs": [],
   "source": [
    "metadados = metadados + dados_erros"
   ]
  },
  {
   "cell_type": "code",
   "execution_count": null,
   "id": "00b4044b-37a3-40a8-b368-23ea4eea4ae6",
   "metadata": {},
   "outputs": [],
   "source": [
    "len(metadados) == len(total_links) # Confere se total de metadados corresponde a todos os links pesquisados"
   ]
  },
  {
   "cell_type": "code",
   "execution_count": null,
   "id": "86563666-f478-48ed-9125-9cab231be347",
   "metadata": {},
   "outputs": [],
   "source": [
    "## Salva metadados em arquivo json. \n",
    "import json\n",
    "with open('../data/json/metadados.json', 'w', encoding='utf-8') as f:\n",
    "        json.dump(metadados, f, ensure_ascii=False, indent=4)"
   ]
  },
  {
   "cell_type": "markdown",
   "id": "5b9abafe-5657-4300-b88f-e232da91221d",
   "metadata": {},
   "source": [
    "## Corrige problemas no arquivo de metadados\n",
    "- O arquivo de metadados tem alguns problemas.\n",
    "  1. Em alguns resultados, o botão \"Baixar\" ficou assinalado como se fosse um valor da tabela de dados disponibilizada pela Anbima. Ele ocupa valores deixados em branco.\n",
    "  2. O campo \"Última atualização do regulamento\" teve o scraping truncado e figura como 'Regulamento\\nData de atualização indisponível': 'Baixar'.\n",
    "  3. Foi incluído o campo em branco '': ''.\n",
    "  4. O valor da cota e a rentabilidade do fundo no ano foram incluídos como valores de um mesmo campo."
   ]
  },
  {
   "cell_type": "code",
   "execution_count": null,
   "id": "04da8fb0-d050-4804-9386-d635be4ffd34",
   "metadata": {},
   "outputs": [],
   "source": [
    "# Corrige problemas iniciais\n",
    "scraping.problema_1(metadados)\n",
    "scraping.problema_2(metadados)\n",
    "scraping.problema_3(metadados)\n",
    "scraping.problema_4(metadados)"
   ]
  },
  {
   "cell_type": "code",
   "execution_count": null,
   "id": "13273722-16db-452b-9e14-ee421d9282f6",
   "metadata": {
    "scrolled": true
   },
   "outputs": [],
   "source": [
    "import random\n",
    "random.sample(metadados, 15) # Confere integridade da lista"
   ]
  },
  {
   "cell_type": "markdown",
   "id": "f822fbb3-56c8-4346-adbc-685a7dead118",
   "metadata": {},
   "source": [
    "## Converte os arquivos .pdf dos regulamentos em txt."
   ]
  },
  {
   "cell_type": "code",
   "execution_count": null,
   "id": "5fc3b941-3c43-4aeb-8c2d-616d7f66f1b8",
   "metadata": {},
   "outputs": [],
   "source": [
    "destino = '../data/txt/'\n",
    "if not os.path.exists(destino):\n",
    "    # Se não existir, cria o diretório\n",
    "    os.makedirs(destino)\n",
    "converte_txt.converter()"
   ]
  },
  {
   "cell_type": "code",
   "execution_count": null,
   "id": "8c7ce3e3-fa67-4f82-b473-667e345a999b",
   "metadata": {},
   "outputs": [],
   "source": [
    "# Salvar metadados.json\n",
    "with open('../data/json/metadados.json', 'w', encoding='utf-8') as f:\n",
    "        json.dump(metadados, f, ensure_ascii=False, indent=4)"
   ]
  }
 ],
 "metadata": {
  "kernelspec": {
   "display_name": "Python (fundos_esg)",
   "language": "python",
   "name": "venv"
  },
  "language_info": {
   "codemirror_mode": {
    "name": "ipython",
    "version": 3
   },
   "file_extension": ".py",
   "mimetype": "text/x-python",
   "name": "python",
   "nbconvert_exporter": "python",
   "pygments_lexer": "ipython3",
   "version": "3.12.2"
  }
 },
 "nbformat": 4,
 "nbformat_minor": 5
}
