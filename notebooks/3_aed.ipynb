{
 "cells": [
  {
   "cell_type": "markdown",
   "id": "56d22b21-ff43-48ed-8b6b-1a5c552bb8fc",
   "metadata": {},
   "source": [
    "# 3. Análise exploratória de dados\n",
    "- cria um DataFrame a partir do arquivo metadados.json\n",
    "- filtra os fundos listados como \"ativos\" na data da coleta"
   ]
  },
  {
   "cell_type": "code",
   "execution_count": 2,
   "id": "a6d61746-dd70-462f-b3f1-b3e4c806b469",
   "metadata": {
    "ExecuteTime": {
     "end_time": "2024-06-01T21:26:31.463486Z",
     "start_time": "2024-06-01T21:26:23.506831Z"
    }
   },
   "outputs": [],
   "source": [
    "import sys\n",
    "sys.path.append('../src')\n",
    "import pandas as pd\n",
    "import numpy as np\n",
    "from IPython.display import display, HTML\n",
    "import grafico"
   ]
  },
  {
   "cell_type": "code",
   "execution_count": 3,
   "id": "883d7658-37ec-427f-bc6f-1ea2bd0e58d8",
   "metadata": {
    "ExecuteTime": {
     "end_time": "2024-06-01T21:26:32.559058Z",
     "start_time": "2024-06-01T21:26:32.486301Z"
    }
   },
   "outputs": [],
   "source": [
    "df = pd.read_json(\"../data/json/metadados.json\") # Cria um dataframe do Pandas\n",
    "df.set_index('Fundo', inplace=True) # Estabelece a coluna \"Fundo\" como índice"
   ]
  },
  {
   "cell_type": "markdown",
   "source": [
    "## Extensão do DF"
   ],
   "metadata": {
    "collapsed": false
   },
   "id": "e626fef87e3b97c0"
  },
  {
   "cell_type": "code",
   "outputs": [
    {
     "data": {
      "text/plain": "146"
     },
     "execution_count": 4,
     "metadata": {},
     "output_type": "execute_result"
    }
   ],
   "source": [
    "len(df)"
   ],
   "metadata": {
    "collapsed": false,
    "ExecuteTime": {
     "end_time": "2024-06-01T21:26:35.636754Z",
     "start_time": "2024-06-01T21:26:35.595240Z"
    }
   },
   "id": "92115a35673c30f3",
   "execution_count": 4
  },
  {
   "cell_type": "markdown",
   "id": "45175da8-72e1-4f1a-8336-205a0afe9dab",
   "metadata": {},
   "source": [
    "## Colunas do DataFrame"
   ]
  },
  {
   "cell_type": "code",
   "outputs": [
    {
     "data": {
      "text/plain": "                                                  0\n0                                              CNPJ\n1                                     Código ANBIMA\n2                                Patrimônio Líquido\n3                      Taxa de administração ao ano\n4                                   Primeiro aporte\n5                               Tipo de previdência\n6                                     Classe ANBIMA\n7                                       Tipo ANBIMA\n8                                        Classe CVM\n9                                    Sub Classe CVM\n10                                        Fundo ESG\n11                              Composição do fundo\n12                                     Fundo Master\n13                              Estrutura de gestão\n14                                        Benchmark\n15                                  Foco de atuação\n16                         Investimento no exterior\n17                                  Credito privado\n18                               Tipo de investidor\n19                     Característica do investidor\n20                                 Cota de abertura\n21                        Fundo permite alavancagem\n22                          Aberto estatutariamente\n23                                  Tributação Alvo\n24                     Permite aplicação automática\n25                                            Moeda\n26                                    Administrador\n27                                           Gestor\n28                                     Distribuidor\n29                                      Custodiante\n30                            Controlador de ativos\n31                          Controlador de passivos\n32              Taxa de administração máxima ao ano\n33                 Unidade da taxa de administração\n34                                    Taxa composta\n35                           Cobra taxa performance\n36  Regras da taxa de performance (não padronizada)\n37       Período de cobrança da taxa de performance\n38                                  Taxa de entrada\n39                                    Taxa de saída\n40                           Regra da taxa de saída\n41                         Aplicação inicial mínima\n42                       Aplicação adicional mínima\n43              Prazo para emissão de cotas em dias\n44          Prazo para pagamento do resgate em dias\n45          Prazo para conversão do resgate em dias\n46         Carência inicial para 1º resgate em dias\n47  Carência cíclica em dias (tempo entre resgates)\n48                                   Resgate mínimo\n49                            Saldo mínimo aplicado\n50                             Status em 29/05/2024\n51                                     URL do Fundo\n52                                          Arquivo\n53                               Última atualização\n54                                    Valor da cota\n55                           Rentabilidade 12 meses\n56                                             ISIN",
      "text/html": "<div>\n<style scoped>\n    .dataframe tbody tr th:only-of-type {\n        vertical-align: middle;\n    }\n\n    .dataframe tbody tr th {\n        vertical-align: top;\n    }\n\n    .dataframe thead th {\n        text-align: right;\n    }\n</style>\n<table border=\"1\" class=\"dataframe\">\n  <thead>\n    <tr style=\"text-align: right;\">\n      <th></th>\n      <th>0</th>\n    </tr>\n  </thead>\n  <tbody>\n    <tr>\n      <th>0</th>\n      <td>CNPJ</td>\n    </tr>\n    <tr>\n      <th>1</th>\n      <td>Código ANBIMA</td>\n    </tr>\n    <tr>\n      <th>2</th>\n      <td>Patrimônio Líquido</td>\n    </tr>\n    <tr>\n      <th>3</th>\n      <td>Taxa de administração ao ano</td>\n    </tr>\n    <tr>\n      <th>4</th>\n      <td>Primeiro aporte</td>\n    </tr>\n    <tr>\n      <th>5</th>\n      <td>Tipo de previdência</td>\n    </tr>\n    <tr>\n      <th>6</th>\n      <td>Classe ANBIMA</td>\n    </tr>\n    <tr>\n      <th>7</th>\n      <td>Tipo ANBIMA</td>\n    </tr>\n    <tr>\n      <th>8</th>\n      <td>Classe CVM</td>\n    </tr>\n    <tr>\n      <th>9</th>\n      <td>Sub Classe CVM</td>\n    </tr>\n    <tr>\n      <th>10</th>\n      <td>Fundo ESG</td>\n    </tr>\n    <tr>\n      <th>11</th>\n      <td>Composição do fundo</td>\n    </tr>\n    <tr>\n      <th>12</th>\n      <td>Fundo Master</td>\n    </tr>\n    <tr>\n      <th>13</th>\n      <td>Estrutura de gestão</td>\n    </tr>\n    <tr>\n      <th>14</th>\n      <td>Benchmark</td>\n    </tr>\n    <tr>\n      <th>15</th>\n      <td>Foco de atuação</td>\n    </tr>\n    <tr>\n      <th>16</th>\n      <td>Investimento no exterior</td>\n    </tr>\n    <tr>\n      <th>17</th>\n      <td>Credito privado</td>\n    </tr>\n    <tr>\n      <th>18</th>\n      <td>Tipo de investidor</td>\n    </tr>\n    <tr>\n      <th>19</th>\n      <td>Característica do investidor</td>\n    </tr>\n    <tr>\n      <th>20</th>\n      <td>Cota de abertura</td>\n    </tr>\n    <tr>\n      <th>21</th>\n      <td>Fundo permite alavancagem</td>\n    </tr>\n    <tr>\n      <th>22</th>\n      <td>Aberto estatutariamente</td>\n    </tr>\n    <tr>\n      <th>23</th>\n      <td>Tributação Alvo</td>\n    </tr>\n    <tr>\n      <th>24</th>\n      <td>Permite aplicação automática</td>\n    </tr>\n    <tr>\n      <th>25</th>\n      <td>Moeda</td>\n    </tr>\n    <tr>\n      <th>26</th>\n      <td>Administrador</td>\n    </tr>\n    <tr>\n      <th>27</th>\n      <td>Gestor</td>\n    </tr>\n    <tr>\n      <th>28</th>\n      <td>Distribuidor</td>\n    </tr>\n    <tr>\n      <th>29</th>\n      <td>Custodiante</td>\n    </tr>\n    <tr>\n      <th>30</th>\n      <td>Controlador de ativos</td>\n    </tr>\n    <tr>\n      <th>31</th>\n      <td>Controlador de passivos</td>\n    </tr>\n    <tr>\n      <th>32</th>\n      <td>Taxa de administração máxima ao ano</td>\n    </tr>\n    <tr>\n      <th>33</th>\n      <td>Unidade da taxa de administração</td>\n    </tr>\n    <tr>\n      <th>34</th>\n      <td>Taxa composta</td>\n    </tr>\n    <tr>\n      <th>35</th>\n      <td>Cobra taxa performance</td>\n    </tr>\n    <tr>\n      <th>36</th>\n      <td>Regras da taxa de performance (não padronizada)</td>\n    </tr>\n    <tr>\n      <th>37</th>\n      <td>Período de cobrança da taxa de performance</td>\n    </tr>\n    <tr>\n      <th>38</th>\n      <td>Taxa de entrada</td>\n    </tr>\n    <tr>\n      <th>39</th>\n      <td>Taxa de saída</td>\n    </tr>\n    <tr>\n      <th>40</th>\n      <td>Regra da taxa de saída</td>\n    </tr>\n    <tr>\n      <th>41</th>\n      <td>Aplicação inicial mínima</td>\n    </tr>\n    <tr>\n      <th>42</th>\n      <td>Aplicação adicional mínima</td>\n    </tr>\n    <tr>\n      <th>43</th>\n      <td>Prazo para emissão de cotas em dias</td>\n    </tr>\n    <tr>\n      <th>44</th>\n      <td>Prazo para pagamento do resgate em dias</td>\n    </tr>\n    <tr>\n      <th>45</th>\n      <td>Prazo para conversão do resgate em dias</td>\n    </tr>\n    <tr>\n      <th>46</th>\n      <td>Carência inicial para 1º resgate em dias</td>\n    </tr>\n    <tr>\n      <th>47</th>\n      <td>Carência cíclica em dias (tempo entre resgates)</td>\n    </tr>\n    <tr>\n      <th>48</th>\n      <td>Resgate mínimo</td>\n    </tr>\n    <tr>\n      <th>49</th>\n      <td>Saldo mínimo aplicado</td>\n    </tr>\n    <tr>\n      <th>50</th>\n      <td>Status em 29/05/2024</td>\n    </tr>\n    <tr>\n      <th>51</th>\n      <td>URL do Fundo</td>\n    </tr>\n    <tr>\n      <th>52</th>\n      <td>Arquivo</td>\n    </tr>\n    <tr>\n      <th>53</th>\n      <td>Última atualização</td>\n    </tr>\n    <tr>\n      <th>54</th>\n      <td>Valor da cota</td>\n    </tr>\n    <tr>\n      <th>55</th>\n      <td>Rentabilidade 12 meses</td>\n    </tr>\n    <tr>\n      <th>56</th>\n      <td>ISIN</td>\n    </tr>\n  </tbody>\n</table>\n</div>"
     },
     "metadata": {},
     "output_type": "display_data"
    }
   ],
   "source": [
    "display(pd.DataFrame(df.columns)) # Colunas do DataFrame"
   ],
   "metadata": {
    "ExecuteTime": {
     "end_time": "2024-06-01T21:26:38.970820Z",
     "start_time": "2024-06-01T21:26:38.947909Z"
    }
   },
   "id": "6fc05be0-b167-49c5-b331-d528d96862e3",
   "execution_count": 5
  },
  {
   "cell_type": "markdown",
   "source": [
    "## Proporção de fundos com possibilidade de investimento no exterior"
   ],
   "metadata": {},
   "id": "21ec203a-6941-470c-adb1-cdd09596bbbd"
  },
  {
   "cell_type": "code",
   "execution_count": 6,
   "id": "99bffcf4-9c7e-44dd-b9ab-919020cbb016",
   "metadata": {
    "ExecuteTime": {
     "end_time": "2024-06-01T21:26:50.912859Z",
     "start_time": "2024-06-01T21:26:50.888513Z"
    }
   },
   "outputs": [
    {
     "data": {
      "text/plain": "                          proportion\nInvestimento no exterior            \nNão se Aplica              30.821918\nAté 20 %                   25.342466\n> 67%                      19.863014\nAté 40 %                   15.068493\nAté 100%                    8.904110",
      "text/html": "<div>\n<style scoped>\n    .dataframe tbody tr th:only-of-type {\n        vertical-align: middle;\n    }\n\n    .dataframe tbody tr th {\n        vertical-align: top;\n    }\n\n    .dataframe thead th {\n        text-align: right;\n    }\n</style>\n<table border=\"1\" class=\"dataframe\">\n  <thead>\n    <tr style=\"text-align: right;\">\n      <th></th>\n      <th>proportion</th>\n    </tr>\n    <tr>\n      <th>Investimento no exterior</th>\n      <th></th>\n    </tr>\n  </thead>\n  <tbody>\n    <tr>\n      <th>Não se Aplica</th>\n      <td>30.821918</td>\n    </tr>\n    <tr>\n      <th>Até 20 %</th>\n      <td>25.342466</td>\n    </tr>\n    <tr>\n      <th>&gt; 67%</th>\n      <td>19.863014</td>\n    </tr>\n    <tr>\n      <th>Até 40 %</th>\n      <td>15.068493</td>\n    </tr>\n    <tr>\n      <th>Até 100%</th>\n      <td>8.904110</td>\n    </tr>\n  </tbody>\n</table>\n</div>"
     },
     "metadata": {},
     "output_type": "display_data"
    }
   ],
   "source": [
    "exterior = df['Investimento no exterior'].value_counts(normalize=True) * 100\n",
    "display(pd.DataFrame(exterior))"
   ]
  },
  {
   "cell_type": "markdown",
   "id": "9ee7f902-c9a3-42c7-8d27-b485ffdcf158",
   "metadata": {},
   "source": [
    "## Proporção de fundos segundo tipo estabelecido pela Anbima"
   ]
  },
  {
   "cell_type": "code",
   "execution_count": 7,
   "id": "92b982c5-8034-41e0-b7e2-fdb8b679b077",
   "metadata": {
    "ExecuteTime": {
     "end_time": "2024-06-01T21:26:54.438112Z",
     "start_time": "2024-06-01T21:26:54.413667Z"
    }
   },
   "outputs": [
    {
     "data": {
      "text/plain": "                                          proportion\nTipo ANBIMA                                         \nAções Livre                                17.123288\nAções Invest. no Exterior                  15.753425\nMultimercados Invest. no Exterior          12.328767\nRenda Fixa Duração Livre Crédito Livre     11.643836\nPrevidência Ações Ativo                     7.534247\nAções Indexados                             6.164384\nETF – Renda Variável                        5.479452\nPrevidência Multimercado Livre              4.794521\nMultimercados Livre                         4.109589\nAções Índice Ativo                          2.739726\nPrevidência RF Duração Livre Crédito Liv    2.739726\nMultimercados Balanceados                   2.054795\nRenda Fixa Duração Livre Grau de Invest.    2.054795\nMultimercados Estrat. Específica            1.369863\nRenda Fixa Duração Baixa Grau de Invest.    1.369863\nAções Sustentabilidade/Governança           1.369863\nPrevidência Ações Indexados                 0.684932\nPrevidência Balanceados acima de 49         0.684932",
      "text/html": "<div>\n<style scoped>\n    .dataframe tbody tr th:only-of-type {\n        vertical-align: middle;\n    }\n\n    .dataframe tbody tr th {\n        vertical-align: top;\n    }\n\n    .dataframe thead th {\n        text-align: right;\n    }\n</style>\n<table border=\"1\" class=\"dataframe\">\n  <thead>\n    <tr style=\"text-align: right;\">\n      <th></th>\n      <th>proportion</th>\n    </tr>\n    <tr>\n      <th>Tipo ANBIMA</th>\n      <th></th>\n    </tr>\n  </thead>\n  <tbody>\n    <tr>\n      <th>Ações Livre</th>\n      <td>17.123288</td>\n    </tr>\n    <tr>\n      <th>Ações Invest. no Exterior</th>\n      <td>15.753425</td>\n    </tr>\n    <tr>\n      <th>Multimercados Invest. no Exterior</th>\n      <td>12.328767</td>\n    </tr>\n    <tr>\n      <th>Renda Fixa Duração Livre Crédito Livre</th>\n      <td>11.643836</td>\n    </tr>\n    <tr>\n      <th>Previdência Ações Ativo</th>\n      <td>7.534247</td>\n    </tr>\n    <tr>\n      <th>Ações Indexados</th>\n      <td>6.164384</td>\n    </tr>\n    <tr>\n      <th>ETF – Renda Variável</th>\n      <td>5.479452</td>\n    </tr>\n    <tr>\n      <th>Previdência Multimercado Livre</th>\n      <td>4.794521</td>\n    </tr>\n    <tr>\n      <th>Multimercados Livre</th>\n      <td>4.109589</td>\n    </tr>\n    <tr>\n      <th>Ações Índice Ativo</th>\n      <td>2.739726</td>\n    </tr>\n    <tr>\n      <th>Previdência RF Duração Livre Crédito Liv</th>\n      <td>2.739726</td>\n    </tr>\n    <tr>\n      <th>Multimercados Balanceados</th>\n      <td>2.054795</td>\n    </tr>\n    <tr>\n      <th>Renda Fixa Duração Livre Grau de Invest.</th>\n      <td>2.054795</td>\n    </tr>\n    <tr>\n      <th>Multimercados Estrat. Específica</th>\n      <td>1.369863</td>\n    </tr>\n    <tr>\n      <th>Renda Fixa Duração Baixa Grau de Invest.</th>\n      <td>1.369863</td>\n    </tr>\n    <tr>\n      <th>Ações Sustentabilidade/Governança</th>\n      <td>1.369863</td>\n    </tr>\n    <tr>\n      <th>Previdência Ações Indexados</th>\n      <td>0.684932</td>\n    </tr>\n    <tr>\n      <th>Previdência Balanceados acima de 49</th>\n      <td>0.684932</td>\n    </tr>\n  </tbody>\n</table>\n</div>"
     },
     "metadata": {},
     "output_type": "display_data"
    }
   ],
   "source": [
    "tipo_anbima = df['Tipo ANBIMA'].value_counts(normalize=True) * 100\n",
    "display(pd.DataFrame(tipo_anbima))"
   ]
  },
  {
   "cell_type": "markdown",
   "id": "ca16734e-5373-4130-aaeb-7b420deaa39a",
   "metadata": {},
   "source": [
    "## Proporção de fundos segundo classe estabelecida pela Anbima"
   ]
  },
  {
   "cell_type": "code",
   "execution_count": 8,
   "id": "3f9edfe6-6473-4f66-a7ab-0bf5e507d2e7",
   "metadata": {
    "ExecuteTime": {
     "end_time": "2024-06-01T21:27:04.634719Z",
     "start_time": "2024-06-01T21:27:04.614110Z"
    }
   },
   "outputs": [
    {
     "data": {
      "text/plain": "               proportion\nClasse ANBIMA            \nAções           43.150685\nMultimercados   19.863014\nPrevidência     16.438356\nRenda Fixa      15.068493\nETF              5.479452",
      "text/html": "<div>\n<style scoped>\n    .dataframe tbody tr th:only-of-type {\n        vertical-align: middle;\n    }\n\n    .dataframe tbody tr th {\n        vertical-align: top;\n    }\n\n    .dataframe thead th {\n        text-align: right;\n    }\n</style>\n<table border=\"1\" class=\"dataframe\">\n  <thead>\n    <tr style=\"text-align: right;\">\n      <th></th>\n      <th>proportion</th>\n    </tr>\n    <tr>\n      <th>Classe ANBIMA</th>\n      <th></th>\n    </tr>\n  </thead>\n  <tbody>\n    <tr>\n      <th>Ações</th>\n      <td>43.150685</td>\n    </tr>\n    <tr>\n      <th>Multimercados</th>\n      <td>19.863014</td>\n    </tr>\n    <tr>\n      <th>Previdência</th>\n      <td>16.438356</td>\n    </tr>\n    <tr>\n      <th>Renda Fixa</th>\n      <td>15.068493</td>\n    </tr>\n    <tr>\n      <th>ETF</th>\n      <td>5.479452</td>\n    </tr>\n  </tbody>\n</table>\n</div>"
     },
     "metadata": {},
     "output_type": "display_data"
    }
   ],
   "source": [
    "classe_anbima = df['Classe ANBIMA'].value_counts(normalize=True) * 100\n",
    "display(pd.DataFrame(classe_anbima))"
   ]
  },
  {
   "cell_type": "markdown",
   "source": [
    "## Proporção de fundos classificados como ESG pela Anbima"
   ],
   "metadata": {},
   "id": "860d04b2-731f-4e14-884b-22612e35c5c9"
  },
  {
   "cell_type": "code",
   "outputs": [
    {
     "data": {
      "text/plain": "             proportion\nFundo ESG              \nSim           60.273973\nNão           36.986301\nRelacionado    2.739726",
      "text/html": "<div>\n<style scoped>\n    .dataframe tbody tr th:only-of-type {\n        vertical-align: middle;\n    }\n\n    .dataframe tbody tr th {\n        vertical-align: top;\n    }\n\n    .dataframe thead th {\n        text-align: right;\n    }\n</style>\n<table border=\"1\" class=\"dataframe\">\n  <thead>\n    <tr style=\"text-align: right;\">\n      <th></th>\n      <th>proportion</th>\n    </tr>\n    <tr>\n      <th>Fundo ESG</th>\n      <th></th>\n    </tr>\n  </thead>\n  <tbody>\n    <tr>\n      <th>Sim</th>\n      <td>60.273973</td>\n    </tr>\n    <tr>\n      <th>Não</th>\n      <td>36.986301</td>\n    </tr>\n    <tr>\n      <th>Relacionado</th>\n      <td>2.739726</td>\n    </tr>\n  </tbody>\n</table>\n</div>"
     },
     "metadata": {},
     "output_type": "display_data"
    }
   ],
   "source": [
    "df.replace(\"n/d\", np.nan, inplace=True) # Substituindo \"n/d\" por NaN\n",
    "esg_proportions = df['Fundo ESG'].value_counts(normalize=True) * 100\n",
    "display(pd.DataFrame(esg_proportions))"
   ],
   "metadata": {
    "ExecuteTime": {
     "end_time": "2024-06-01T21:27:09.667077Z",
     "start_time": "2024-06-01T21:27:09.586166Z"
    }
   },
   "id": "551f162f-5999-4618-946f-474068dcb713",
   "execution_count": 9
  },
  {
   "cell_type": "markdown",
   "source": [
    "## Classe dos fundos considerados ESG pela Anbima\n"
   ],
   "metadata": {
    "collapsed": false
   },
   "id": "f17773caa7371da0"
  },
  {
   "cell_type": "code",
   "outputs": [
    {
     "data": {
      "text/plain": "               proportion\nClasse ANBIMA            \nAções           51.136364\nRenda Fixa      23.863636\nPrevidência     14.772727\nMultimercados    5.681818\nETF              4.545455",
      "text/html": "<div>\n<style scoped>\n    .dataframe tbody tr th:only-of-type {\n        vertical-align: middle;\n    }\n\n    .dataframe tbody tr th {\n        vertical-align: top;\n    }\n\n    .dataframe thead th {\n        text-align: right;\n    }\n</style>\n<table border=\"1\" class=\"dataframe\">\n  <thead>\n    <tr style=\"text-align: right;\">\n      <th></th>\n      <th>proportion</th>\n    </tr>\n    <tr>\n      <th>Classe ANBIMA</th>\n      <th></th>\n    </tr>\n  </thead>\n  <tbody>\n    <tr>\n      <th>Ações</th>\n      <td>51.136364</td>\n    </tr>\n    <tr>\n      <th>Renda Fixa</th>\n      <td>23.863636</td>\n    </tr>\n    <tr>\n      <th>Previdência</th>\n      <td>14.772727</td>\n    </tr>\n    <tr>\n      <th>Multimercados</th>\n      <td>5.681818</td>\n    </tr>\n    <tr>\n      <th>ETF</th>\n      <td>4.545455</td>\n    </tr>\n  </tbody>\n</table>\n</div>"
     },
     "metadata": {},
     "output_type": "display_data"
    }
   ],
   "source": [
    "esg_classe = df[df['Fundo ESG'] == 'Sim']['Classe ANBIMA'].value_counts(normalize=True) * 100\n",
    "display(pd.DataFrame(esg_classe))"
   ],
   "metadata": {
    "collapsed": false,
    "ExecuteTime": {
     "end_time": "2024-06-01T21:27:16.896982Z",
     "start_time": "2024-06-01T21:27:16.871206Z"
    }
   },
   "id": "7377e30d7ca66575",
   "execution_count": 10
  },
  {
   "cell_type": "code",
   "outputs": [
    {
     "data": {
      "text/plain": "             count\nFundo ESG         \nNão             23\nSim              5\nRelacionado      1",
      "text/html": "<div>\n<style scoped>\n    .dataframe tbody tr th:only-of-type {\n        vertical-align: middle;\n    }\n\n    .dataframe tbody tr th {\n        vertical-align: top;\n    }\n\n    .dataframe thead th {\n        text-align: right;\n    }\n</style>\n<table border=\"1\" class=\"dataframe\">\n  <thead>\n    <tr style=\"text-align: right;\">\n      <th></th>\n      <th>count</th>\n    </tr>\n    <tr>\n      <th>Fundo ESG</th>\n      <th></th>\n    </tr>\n  </thead>\n  <tbody>\n    <tr>\n      <th>Não</th>\n      <td>23</td>\n    </tr>\n    <tr>\n      <th>Sim</th>\n      <td>5</td>\n    </tr>\n    <tr>\n      <th>Relacionado</th>\n      <td>1</td>\n    </tr>\n  </tbody>\n</table>\n</div>"
     },
     "metadata": {},
     "output_type": "display_data"
    }
   ],
   "source": [
    "multimercados = df[df['Classe ANBIMA'] == 'Multimercados']['Fundo ESG'].value_counts()\n",
    "display(pd.DataFrame(multimercados))\n"
   ],
   "metadata": {
    "collapsed": false,
    "ExecuteTime": {
     "end_time": "2024-06-01T21:28:08.568743Z",
     "start_time": "2024-06-01T21:28:08.552003Z"
    }
   },
   "id": "4b2a895e18c58a3a",
   "execution_count": 13
  },
  {
   "cell_type": "code",
   "outputs": [
    {
     "data": {
      "text/plain": "             count\nFundo ESG         \nSim             45\nNão             15\nRelacionado      3",
      "text/html": "<div>\n<style scoped>\n    .dataframe tbody tr th:only-of-type {\n        vertical-align: middle;\n    }\n\n    .dataframe tbody tr th {\n        vertical-align: top;\n    }\n\n    .dataframe thead th {\n        text-align: right;\n    }\n</style>\n<table border=\"1\" class=\"dataframe\">\n  <thead>\n    <tr style=\"text-align: right;\">\n      <th></th>\n      <th>count</th>\n    </tr>\n    <tr>\n      <th>Fundo ESG</th>\n      <th></th>\n    </tr>\n  </thead>\n  <tbody>\n    <tr>\n      <th>Sim</th>\n      <td>45</td>\n    </tr>\n    <tr>\n      <th>Não</th>\n      <td>15</td>\n    </tr>\n    <tr>\n      <th>Relacionado</th>\n      <td>3</td>\n    </tr>\n  </tbody>\n</table>\n</div>"
     },
     "metadata": {},
     "output_type": "display_data"
    }
   ],
   "source": [
    "acoes = df[df['Classe ANBIMA'] == 'Ações']['Fundo ESG'].value_counts()\n",
    "display(pd.DataFrame(acoes))\n"
   ],
   "metadata": {
    "collapsed": false,
    "ExecuteTime": {
     "end_time": "2024-06-02T19:32:56.036377Z",
     "start_time": "2024-06-02T19:32:55.820351Z"
    }
   },
   "id": "81d87c536b8590ef",
   "execution_count": 14
  },
  {
   "cell_type": "code",
   "outputs": [
    {
     "data": {
      "text/plain": "           count\nFundo ESG       \nSim           21\nNão            1",
      "text/html": "<div>\n<style scoped>\n    .dataframe tbody tr th:only-of-type {\n        vertical-align: middle;\n    }\n\n    .dataframe tbody tr th {\n        vertical-align: top;\n    }\n\n    .dataframe thead th {\n        text-align: right;\n    }\n</style>\n<table border=\"1\" class=\"dataframe\">\n  <thead>\n    <tr style=\"text-align: right;\">\n      <th></th>\n      <th>count</th>\n    </tr>\n    <tr>\n      <th>Fundo ESG</th>\n      <th></th>\n    </tr>\n  </thead>\n  <tbody>\n    <tr>\n      <th>Sim</th>\n      <td>21</td>\n    </tr>\n    <tr>\n      <th>Não</th>\n      <td>1</td>\n    </tr>\n  </tbody>\n</table>\n</div>"
     },
     "metadata": {},
     "output_type": "display_data"
    }
   ],
   "source": [
    "rfixa = df[df['Classe ANBIMA'] == 'Renda Fixa']['Fundo ESG'].value_counts()\n",
    "display(pd.DataFrame(rfixa))\n"
   ],
   "metadata": {
    "collapsed": false,
    "ExecuteTime": {
     "end_time": "2024-06-02T19:34:28.062980Z",
     "start_time": "2024-06-02T19:34:28.043926Z"
    }
   },
   "id": "3801f61ac5402f32",
   "execution_count": 15
  },
  {
   "cell_type": "code",
   "outputs": [
    {
     "data": {
      "text/plain": "           count\nFundo ESG       \nSim           13\nNão           11",
      "text/html": "<div>\n<style scoped>\n    .dataframe tbody tr th:only-of-type {\n        vertical-align: middle;\n    }\n\n    .dataframe tbody tr th {\n        vertical-align: top;\n    }\n\n    .dataframe thead th {\n        text-align: right;\n    }\n</style>\n<table border=\"1\" class=\"dataframe\">\n  <thead>\n    <tr style=\"text-align: right;\">\n      <th></th>\n      <th>count</th>\n    </tr>\n    <tr>\n      <th>Fundo ESG</th>\n      <th></th>\n    </tr>\n  </thead>\n  <tbody>\n    <tr>\n      <th>Sim</th>\n      <td>13</td>\n    </tr>\n    <tr>\n      <th>Não</th>\n      <td>11</td>\n    </tr>\n  </tbody>\n</table>\n</div>"
     },
     "metadata": {},
     "output_type": "display_data"
    }
   ],
   "source": [
    "prev = df[df['Classe ANBIMA'] == 'Previdência']['Fundo ESG'].value_counts()\n",
    "display(pd.DataFrame(prev))"
   ],
   "metadata": {
    "collapsed": false,
    "ExecuteTime": {
     "end_time": "2024-06-02T19:37:16.632870Z",
     "start_time": "2024-06-02T19:37:16.596332Z"
    }
   },
   "id": "f98bba430ef8c4aa",
   "execution_count": 16
  },
  {
   "cell_type": "markdown",
   "id": "776f44e3-d409-40b0-81f3-89bad02d9d9a",
   "metadata": {},
   "source": [
    "## 10 maiores e 10 menores fundos por patrimônio e respectiva classificação Anbima"
   ]
  },
  {
   "cell_type": "code",
   "execution_count": 42,
   "id": "e43e22df-0f7d-4c0c-aae7-99db945c3157",
   "metadata": {
    "ExecuteTime": {
     "end_time": "2024-05-31T23:02:59.720649Z",
     "start_time": "2024-05-31T23:02:59.597895Z"
    }
   },
   "outputs": [
    {
     "data": {
      "text/plain": "                                                    Patrimônio Líquido  \\\nFundo                                                                    \nBNPP M.CRED FI RF CRED PRIV LP SUST IS                   2.290.067.040   \nITAÚ ACTIVE FIX ESG CRED PRIV MULT FC                    1.977.302.010   \nITAÚ ACTIVE FIX ESG CRED PRIV MULT FI                    1.975.144.954   \nBNPP CREDITO INSTITUCIONAL SUSTENTAVEL IS FC DE...       1.871.864.285   \nSULA PREV CRÉD ESG FIRF CRED PRIV IS                       992.973.931   \nSULAMERICA CRED ESG FIRF CRED PRIV LP IS                   698.571.834   \nBB AÇÕES GOVERNANÇA IS FI                                  668.902.782   \nSULA CRED INST ESG FI RF CRED PRIV LP IS                   600.194.684   \nBB ESPELHO JGP EQUILÍBRIO FUNDO DE INVESTIMENTO...         514.255.266   \nJGP EQUILÍBRIO FIF IS RF CRED PRIV LP RESP LIMI...         499.777.661   \n\n                                                   Fundo ESG  \nFundo                                                         \nBNPP M.CRED FI RF CRED PRIV LP SUST IS                   Sim  \nITAÚ ACTIVE FIX ESG CRED PRIV MULT FC                    Não  \nITAÚ ACTIVE FIX ESG CRED PRIV MULT FI                    Não  \nBNPP CREDITO INSTITUCIONAL SUSTENTAVEL IS FC DE...       Sim  \nSULA PREV CRÉD ESG FIRF CRED PRIV IS                     Sim  \nSULAMERICA CRED ESG FIRF CRED PRIV LP IS                 Sim  \nBB AÇÕES GOVERNANÇA IS FI                                Sim  \nSULA CRED INST ESG FI RF CRED PRIV LP IS                 Sim  \nBB ESPELHO JGP EQUILÍBRIO FUNDO DE INVESTIMENTO...       Sim  \nJGP EQUILÍBRIO FIF IS RF CRED PRIV LP RESP LIMI...       Sim  ",
      "text/html": "<div>\n<style scoped>\n    .dataframe tbody tr th:only-of-type {\n        vertical-align: middle;\n    }\n\n    .dataframe tbody tr th {\n        vertical-align: top;\n    }\n\n    .dataframe thead th {\n        text-align: right;\n    }\n</style>\n<table border=\"1\" class=\"dataframe\">\n  <thead>\n    <tr style=\"text-align: right;\">\n      <th></th>\n      <th>Patrimônio Líquido</th>\n      <th>Fundo ESG</th>\n    </tr>\n    <tr>\n      <th>Fundo</th>\n      <th></th>\n      <th></th>\n    </tr>\n  </thead>\n  <tbody>\n    <tr>\n      <th>BNPP M.CRED FI RF CRED PRIV LP SUST IS</th>\n      <td>2.290.067.040</td>\n      <td>Sim</td>\n    </tr>\n    <tr>\n      <th>ITAÚ ACTIVE FIX ESG CRED PRIV MULT FC</th>\n      <td>1.977.302.010</td>\n      <td>Não</td>\n    </tr>\n    <tr>\n      <th>ITAÚ ACTIVE FIX ESG CRED PRIV MULT FI</th>\n      <td>1.975.144.954</td>\n      <td>Não</td>\n    </tr>\n    <tr>\n      <th>BNPP CREDITO INSTITUCIONAL SUSTENTAVEL IS FC DE FI RF CRED PRIV LP</th>\n      <td>1.871.864.285</td>\n      <td>Sim</td>\n    </tr>\n    <tr>\n      <th>SULA PREV CRÉD ESG FIRF CRED PRIV IS</th>\n      <td>992.973.931</td>\n      <td>Sim</td>\n    </tr>\n    <tr>\n      <th>SULAMERICA CRED ESG FIRF CRED PRIV LP IS</th>\n      <td>698.571.834</td>\n      <td>Sim</td>\n    </tr>\n    <tr>\n      <th>BB AÇÕES GOVERNANÇA IS FI</th>\n      <td>668.902.782</td>\n      <td>Sim</td>\n    </tr>\n    <tr>\n      <th>SULA CRED INST ESG FI RF CRED PRIV LP IS</th>\n      <td>600.194.684</td>\n      <td>Sim</td>\n    </tr>\n    <tr>\n      <th>BB ESPELHO JGP EQUILÍBRIO FUNDO DE INVESTIMENTO EM COTAS DE FUNDO DE INVESTIMENTO FINANCEIRO IS RENDA FIXA CRÉDITO PRIVADO LONGO PRAZO RESP LIMITADA</th>\n      <td>514.255.266</td>\n      <td>Sim</td>\n    </tr>\n    <tr>\n      <th>JGP EQUILÍBRIO FIF IS RF CRED PRIV LP RESP LIMITADA</th>\n      <td>499.777.661</td>\n      <td>Sim</td>\n    </tr>\n  </tbody>\n</table>\n</div>"
     },
     "metadata": {},
     "output_type": "display_data"
    }
   ],
   "source": [
    "\n",
    "df_ordenado = df.sort_values(by=\"Patrimônio Líquido\", ascending=False)\n",
    "pd.options.display.float_format = '{:,.0f}'.format\n",
    "pd.options.display.float_format = lambda x: '{:,.0f}'.format(x).replace(',', '.')\n",
    "top_10 = df_ordenado[[\"Patrimônio Líquido\", 'Fundo ESG']].head(10)\n",
    "display(pd.DataFrame(top_10))\n",
    "top_10.to_excel(\"temp.xlsx\")"
   ]
  },
  {
   "cell_type": "code",
   "outputs": [
    {
     "data": {
      "text/plain": "                                                    Patrimônio Líquido  \\\nFundo                                                                    \nBRB INVESTIMENTO SUSTENTAVEL FUNDO DE INVESTIME...           1.794.550   \nJGP ESG INSTITUCIONAL FC DE FIA ÁGORA                        1.674.555   \nBB ASSET AÇÕES EQUIDADE IS FC FI                             1.670.684   \nJGP ESG INST FC DE FIA – FEEDER IX                           1.660.295   \nJGP EQ ESG PV ITAUXP FI MULT IE                              1.519.090   \nBB ASSET AÇÕES NORDEA GLOBAL CLIMATE AND ENVIRO...           1.272.780   \nJGP ESG INSTITUCIONAL FC FIA                                 1.208.412   \nBB MULT BRL ALLSPRING CLI TRA IS IE FI                       1.188.261   \nACCESS ENERGY TRANSITION FIA SUS IS IE                       1.144.272   \nBLAC ESG GL BON INC IE FIC FI MULT AGORA                     1.127.240   \nWA FIA BDR ESG Leaders Hedged Nivel I IS                           NaN   \n\n                                                   Fundo ESG  \nFundo                                                         \nBRB INVESTIMENTO SUSTENTAVEL FUNDO DE INVESTIME...       Sim  \nJGP ESG INSTITUCIONAL FC DE FIA ÁGORA                    Não  \nBB ASSET AÇÕES EQUIDADE IS FC FI                         Não  \nJGP ESG INST FC DE FIA – FEEDER IX                       Não  \nJGP EQ ESG PV ITAUXP FI MULT IE                          Não  \nBB ASSET AÇÕES NORDEA GLOBAL CLIMATE AND ENVIRO...       Sim  \nJGP ESG INSTITUCIONAL FC FIA                             Não  \nBB MULT BRL ALLSPRING CLI TRA IS IE FI                   Sim  \nACCESS ENERGY TRANSITION FIA SUS IS IE                   Sim  \nBLAC ESG GL BON INC IE FIC FI MULT AGORA                 Não  \nWA FIA BDR ESG Leaders Hedged Nivel I IS                 Sim  ",
      "text/html": "<div>\n<style scoped>\n    .dataframe tbody tr th:only-of-type {\n        vertical-align: middle;\n    }\n\n    .dataframe tbody tr th {\n        vertical-align: top;\n    }\n\n    .dataframe thead th {\n        text-align: right;\n    }\n</style>\n<table border=\"1\" class=\"dataframe\">\n  <thead>\n    <tr style=\"text-align: right;\">\n      <th></th>\n      <th>Patrimônio Líquido</th>\n      <th>Fundo ESG</th>\n    </tr>\n    <tr>\n      <th>Fundo</th>\n      <th></th>\n      <th></th>\n    </tr>\n  </thead>\n  <tbody>\n    <tr>\n      <th>BRB INVESTIMENTO SUSTENTAVEL FUNDO DE INVESTIMENTO EM COTAS DE FUNDO DE INVESTIMENTO EM ACOES I – RESPONSABILIDADE LIMITADA</th>\n      <td>1.794.550</td>\n      <td>Sim</td>\n    </tr>\n    <tr>\n      <th>JGP ESG INSTITUCIONAL FC DE FIA ÁGORA</th>\n      <td>1.674.555</td>\n      <td>Não</td>\n    </tr>\n    <tr>\n      <th>BB ASSET AÇÕES EQUIDADE IS FC FI</th>\n      <td>1.670.684</td>\n      <td>Não</td>\n    </tr>\n    <tr>\n      <th>JGP ESG INST FC DE FIA – FEEDER IX</th>\n      <td>1.660.295</td>\n      <td>Não</td>\n    </tr>\n    <tr>\n      <th>JGP EQ ESG PV ITAUXP FI MULT IE</th>\n      <td>1.519.090</td>\n      <td>Não</td>\n    </tr>\n    <tr>\n      <th>BB ASSET AÇÕES NORDEA GLOBAL CLIMATE AND ENVIRONMENT IS IE FC</th>\n      <td>1.272.780</td>\n      <td>Sim</td>\n    </tr>\n    <tr>\n      <th>JGP ESG INSTITUCIONAL FC FIA</th>\n      <td>1.208.412</td>\n      <td>Não</td>\n    </tr>\n    <tr>\n      <th>BB MULT BRL ALLSPRING CLI TRA IS IE FI</th>\n      <td>1.188.261</td>\n      <td>Sim</td>\n    </tr>\n    <tr>\n      <th>ACCESS ENERGY TRANSITION FIA SUS IS IE</th>\n      <td>1.144.272</td>\n      <td>Sim</td>\n    </tr>\n    <tr>\n      <th>BLAC ESG GL BON INC IE FIC FI MULT AGORA</th>\n      <td>1.127.240</td>\n      <td>Não</td>\n    </tr>\n    <tr>\n      <th>WA FIA BDR ESG Leaders Hedged Nivel I IS</th>\n      <td>NaN</td>\n      <td>Sim</td>\n    </tr>\n  </tbody>\n</table>\n</div>"
     },
     "metadata": {},
     "output_type": "display_data"
    }
   ],
   "source": [
    "df_ordenado = df.sort_values(by=\"Patrimônio Líquido\", ascending=False)\n",
    "pd.options.display.float_format = '{:,.0f}'.format\n",
    "pd.options.display.float_format = lambda x: '{:,.0f}'.format(x).replace(',', '.')\n",
    "bottom_10 = df_ordenado[[\"Patrimônio Líquido\", 'Fundo ESG']].tail(11)\n",
    "display(pd.DataFrame(bottom_10))\n",
    "bottom_10.to_excel(\"temp.xlsx\")"
   ],
   "metadata": {
    "collapsed": false,
    "ExecuteTime": {
     "end_time": "2024-06-01T18:27:06.267962Z",
     "start_time": "2024-06-01T18:27:05.662521Z"
    }
   },
   "id": "1dbf0202a0c315c4",
   "execution_count": 44
  },
  {
   "cell_type": "markdown",
   "id": "5bba8823-b7c3-4347-95ed-9acd289649b2",
   "metadata": {},
   "source": [
    "## 5 fundos mais rentáveis e respectiva classificação Anbima"
   ]
  },
  {
   "cell_type": "code",
   "execution_count": 17,
   "id": "f6f1e8fc-8ccc-4239-ad4a-de2346220aa1",
   "metadata": {
    "ExecuteTime": {
     "end_time": "2024-06-02T19:55:57.183838Z",
     "start_time": "2024-06-02T19:55:56.971957Z"
    }
   },
   "outputs": [
    {
     "data": {
      "text/plain": "<IPython.core.display.HTML object>",
      "text/html": "<table border=\"1\" class=\"dataframe\">\n  <thead>\n    <tr style=\"text-align: right;\">\n      <th></th>\n      <th>Rentabilidade 12 meses</th>\n      <th>Fundo ESG</th>\n    </tr>\n    <tr>\n      <th>Fundo</th>\n      <th></th>\n      <th></th>\n    </tr>\n  </thead>\n  <tbody>\n    <tr>\n      <th>Trend ETF MSCI USA ESG FI de Indice IE</th>\n      <td>34.79</td>\n      <td>Não</td>\n    </tr>\n    <tr>\n      <th>GO GLOBAL EQUITY ESG REAIS MULT IE FI</th>\n      <td>31.72</td>\n      <td>Não</td>\n    </tr>\n    <tr>\n      <th>BRAD IS MULTIMAN EQUI USD FC DE FIA IE</th>\n      <td>29.11</td>\n      <td>Não</td>\n    </tr>\n    <tr>\n      <th>Mirova Glob Sust Eqt Dol Adv M FIA IE IS</th>\n      <td>26.49</td>\n      <td>Sim</td>\n    </tr>\n    <tr>\n      <th>SCHRODER SUST AÇÕES GLOB USD FIA IS IE</th>\n      <td>26.26</td>\n      <td>Sim</td>\n    </tr>\n    <tr>\n      <th>SCH SUST AÇÕES GLOB USD FC FIA IS IE</th>\n      <td>25.09</td>\n      <td>Sim</td>\n    </tr>\n    <tr>\n      <th>ITAÚ INDEX ESG ÁGUA AÇÕES FX IE FC DE IS</th>\n      <td>24.50</td>\n      <td>Sim</td>\n    </tr>\n    <tr>\n      <th>Mirova Glob Sust Equity Adv FIA IE IS</th>\n      <td>24.43</td>\n      <td>Sim</td>\n    </tr>\n    <tr>\n      <th>IT NOW RUSSELL® 1000 GREEN REVENUES 50 FUNDO DE ÍNDICE IS</th>\n      <td>24.18</td>\n      <td>Sim</td>\n    </tr>\n    <tr>\n      <th>TREND ESG GLOBAL FI MULT</th>\n      <td>23.53</td>\n      <td>Não</td>\n    </tr>\n  </tbody>\n</table>"
     },
     "metadata": {},
     "output_type": "display_data"
    }
   ],
   "source": [
    "df['Rentabilidade 12 meses'] = df['Rentabilidade 12 meses'].replace(r'%', '', regex=True).replace(r',', '.', regex=True).astype(float)\n",
    "df_ordenado = df.sort_values(by=\"Rentabilidade 12 meses\", ascending=False)\n",
    "top_10 = df_ordenado[[\"Rentabilidade 12 meses\", 'Fundo ESG']].head(10)\n",
    "display(HTML(top_10.to_html()))"
   ]
  },
  {
   "cell_type": "markdown",
   "source": [
    "### Pergunta: quais os principais gestores? Como seus fundos são classificados pela Anbima?"
   ],
   "metadata": {
    "collapsed": false
   },
   "id": "89b057f145162a19"
  },
  {
   "cell_type": "markdown",
   "id": "6a1d4aed-0c5b-420f-9bb8-84713c15fb70",
   "metadata": {},
   "source": [
    "## Gestores mais frequentes"
   ]
  },
  {
   "cell_type": "code",
   "execution_count": 13,
   "id": "a2afc7a1-8952-4073-a3e7-1cf268a41709",
   "metadata": {
    "ExecuteTime": {
     "end_time": "2024-05-30T17:37:00.564708Z",
     "start_time": "2024-05-30T17:37:00.436360Z"
    }
   },
   "outputs": [
    {
     "data": {
      "text/plain": "                                          count\nGestor                                         \nBB ASSET MANAGEMENT                          29\nJGP GESTAO DE RECURSOS LTDA                  17\nBRAM BRADESCO ASSET MANAGEMENT SA DTVM       16\nITAU UNIBANCO ASSET MANAGEMENT LTDA          14\nXP ALLOCATION ASSET MANAGEMENT LTDA          11\nBNP PARIBAS ASSET                            10\nSUL AMERICA INVESTIMENTOS GESTORA DE REC      6\nBRADESCO                                      5\nSICREDI                                       4\nBTG PACTUAL                                   4\nSANTANDER BRASIL GESTAO DE RECURSOS LTDA      4\nJGP GESTAO DE CREDITO LTDA                    4\nSCHRODER BRASIL                               3\nPLURAL INVESTIMENTOS GESTAO DE REC LTDA       2\nWRIGHT CAPITAL GESTAO DE RECURSOS             2\nPLURAL                                        2\nBRASILPREV SEGUROS E PREVIDENCIA SA           2\nWESTERN ASSET                                 1\nBANCO SANTANDER (BRASIL) SA                   1\nXP ADVISORY GESTAO DE RECURSOS                1\nRIO BRAVO INVESTIMENTOS LTDA                  1\nCAIXA ASSET                                   1\nITAU DTVM                                     1\nITAU UNIBANCO SA                              1\nVOX CAPITAL GESTAO DE RECURSOS LTDA           1\nWARREN BRASIL GESTAO E ADM DE RECURSOS        1\nBLACKROCK BRASIL GESTORA DE INVESTIMENTO      1\nBANCO J SAFRA SA                              1",
      "text/html": "<div>\n<style scoped>\n    .dataframe tbody tr th:only-of-type {\n        vertical-align: middle;\n    }\n\n    .dataframe tbody tr th {\n        vertical-align: top;\n    }\n\n    .dataframe thead th {\n        text-align: right;\n    }\n</style>\n<table border=\"1\" class=\"dataframe\">\n  <thead>\n    <tr style=\"text-align: right;\">\n      <th></th>\n      <th>count</th>\n    </tr>\n    <tr>\n      <th>Gestor</th>\n      <th></th>\n    </tr>\n  </thead>\n  <tbody>\n    <tr>\n      <th>BB ASSET MANAGEMENT</th>\n      <td>29</td>\n    </tr>\n    <tr>\n      <th>JGP GESTAO DE RECURSOS LTDA</th>\n      <td>17</td>\n    </tr>\n    <tr>\n      <th>BRAM BRADESCO ASSET MANAGEMENT SA DTVM</th>\n      <td>16</td>\n    </tr>\n    <tr>\n      <th>ITAU UNIBANCO ASSET MANAGEMENT LTDA</th>\n      <td>14</td>\n    </tr>\n    <tr>\n      <th>XP ALLOCATION ASSET MANAGEMENT LTDA</th>\n      <td>11</td>\n    </tr>\n    <tr>\n      <th>BNP PARIBAS ASSET</th>\n      <td>10</td>\n    </tr>\n    <tr>\n      <th>SUL AMERICA INVESTIMENTOS GESTORA DE REC</th>\n      <td>6</td>\n    </tr>\n    <tr>\n      <th>BRADESCO</th>\n      <td>5</td>\n    </tr>\n    <tr>\n      <th>SICREDI</th>\n      <td>4</td>\n    </tr>\n    <tr>\n      <th>BTG PACTUAL</th>\n      <td>4</td>\n    </tr>\n    <tr>\n      <th>SANTANDER BRASIL GESTAO DE RECURSOS LTDA</th>\n      <td>4</td>\n    </tr>\n    <tr>\n      <th>JGP GESTAO DE CREDITO LTDA</th>\n      <td>4</td>\n    </tr>\n    <tr>\n      <th>SCHRODER BRASIL</th>\n      <td>3</td>\n    </tr>\n    <tr>\n      <th>PLURAL INVESTIMENTOS GESTAO DE REC LTDA</th>\n      <td>2</td>\n    </tr>\n    <tr>\n      <th>WRIGHT CAPITAL GESTAO DE RECURSOS</th>\n      <td>2</td>\n    </tr>\n    <tr>\n      <th>PLURAL</th>\n      <td>2</td>\n    </tr>\n    <tr>\n      <th>BRASILPREV SEGUROS E PREVIDENCIA SA</th>\n      <td>2</td>\n    </tr>\n    <tr>\n      <th>WESTERN ASSET</th>\n      <td>1</td>\n    </tr>\n    <tr>\n      <th>BANCO SANTANDER (BRASIL) SA</th>\n      <td>1</td>\n    </tr>\n    <tr>\n      <th>XP ADVISORY GESTAO DE RECURSOS</th>\n      <td>1</td>\n    </tr>\n    <tr>\n      <th>RIO BRAVO INVESTIMENTOS LTDA</th>\n      <td>1</td>\n    </tr>\n    <tr>\n      <th>CAIXA ASSET</th>\n      <td>1</td>\n    </tr>\n    <tr>\n      <th>ITAU DTVM</th>\n      <td>1</td>\n    </tr>\n    <tr>\n      <th>ITAU UNIBANCO SA</th>\n      <td>1</td>\n    </tr>\n    <tr>\n      <th>VOX CAPITAL GESTAO DE RECURSOS LTDA</th>\n      <td>1</td>\n    </tr>\n    <tr>\n      <th>WARREN BRASIL GESTAO E ADM DE RECURSOS</th>\n      <td>1</td>\n    </tr>\n    <tr>\n      <th>BLACKROCK BRASIL GESTORA DE INVESTIMENTO</th>\n      <td>1</td>\n    </tr>\n    <tr>\n      <th>BANCO J SAFRA SA</th>\n      <td>1</td>\n    </tr>\n  </tbody>\n</table>\n</div>"
     },
     "metadata": {},
     "output_type": "display_data"
    }
   ],
   "source": [
    "# Gestor mais frequente\n",
    "display(pd.DataFrame(df['Gestor'].value_counts()))"
   ]
  },
  {
   "cell_type": "markdown",
   "source": [
    "## Gestores ordenados segundo patrimônio líquido total"
   ],
   "metadata": {
    "collapsed": false
   },
   "id": "fe9bd00cf5ab4c4b"
  },
  {
   "cell_type": "code",
   "outputs": [
    {
     "data": {
      "text/plain": "Fundo ESG                                 Total  Sim  Não  Relacionado  \\\nGestor                                                                   \nBNP PARIBAS ASSET                            10   10    0            0   \nITAU UNIBANCO ASSET MANAGEMENT LTDA          14   12    2            0   \nBB ASSET MANAGEMENT                          29   16    9            4   \nSUL AMERICA INVESTIMENTOS GESTORA DE REC      6    5    1            0   \nJGP GESTAO DE CREDITO LTDA                    4    4    0            0   \nSCHRODER BRASIL                               3    3    0            0   \nBRAM BRADESCO ASSET MANAGEMENT SA DTVM       16    8    8            0   \nSANTANDER BRASIL GESTAO DE RECURSOS LTDA      4    3    1            0   \nXP ALLOCATION ASSET MANAGEMENT LTDA          11    2    9            0   \nXP ADVISORY GESTAO DE RECURSOS                1    0    1            0   \nJGP GESTAO DE RECURSOS LTDA                  17    6   11            0   \nSICREDI                                       4    4    0            0   \nBRASILPREV SEGUROS E PREVIDENCIA SA           2    0    2            0   \nBLACKROCK BRASIL GESTORA DE INVESTIMENTO      1    0    1            0   \nBTG PACTUAL                                   4    1    3            0   \nBRADESCO                                      5    2    3            0   \nRIO BRAVO INVESTIMENTOS LTDA                  1    0    1            0   \nWRIGHT CAPITAL GESTAO DE RECURSOS             2    2    0            0   \nITAU UNIBANCO SA                              1    1    0            0   \nVOX CAPITAL GESTAO DE RECURSOS LTDA           1    1    0            0   \nBANCO SANTANDER (BRASIL) SA                   1    1    0            0   \nPLURAL                                        2    2    0            0   \nWARREN BRASIL GESTAO E ADM DE RECURSOS        1    1    0            0   \nITAU DTVM                                     1    0    1            0   \nCAIXA ASSET                                   1    1    0            0   \nBANCO J SAFRA SA                              1    0    1            0   \nPLURAL INVESTIMENTOS GESTAO DE REC LTDA       2    2    0            0   \nWESTERN ASSET                                 1    1    0            0   \n\nFundo ESG                                Percentagem ESG  \\\nGestor                                                     \nBNP PARIBAS ASSET                                    100   \nITAU UNIBANCO ASSET MANAGEMENT LTDA                85.71   \nBB ASSET MANAGEMENT                                55.17   \nSUL AMERICA INVESTIMENTOS GESTORA DE REC           83.33   \nJGP GESTAO DE CREDITO LTDA                           100   \nSCHRODER BRASIL                                      100   \nBRAM BRADESCO ASSET MANAGEMENT SA DTVM                50   \nSANTANDER BRASIL GESTAO DE RECURSOS LTDA              75   \nXP ALLOCATION ASSET MANAGEMENT LTDA                18.18   \nXP ADVISORY GESTAO DE RECURSOS                         0   \nJGP GESTAO DE RECURSOS LTDA                        35.29   \nSICREDI                                              100   \nBRASILPREV SEGUROS E PREVIDENCIA SA                    0   \nBLACKROCK BRASIL GESTORA DE INVESTIMENTO               0   \nBTG PACTUAL                                           25   \nBRADESCO                                              40   \nRIO BRAVO INVESTIMENTOS LTDA                           0   \nWRIGHT CAPITAL GESTAO DE RECURSOS                    100   \nITAU UNIBANCO SA                                     100   \nVOX CAPITAL GESTAO DE RECURSOS LTDA                  100   \nBANCO SANTANDER (BRASIL) SA                          100   \nPLURAL                                               100   \nWARREN BRASIL GESTAO E ADM DE RECURSOS               100   \nITAU DTVM                                              0   \nCAIXA ASSET                                          100   \nBANCO J SAFRA SA                                       0   \nPLURAL INVESTIMENTOS GESTAO DE REC LTDA              100   \nWESTERN ASSET                                        100   \n\nFundo ESG                                Patrimônio Líquido Total (em milhões de reais)  \nGestor                                                                                   \nBNP PARIBAS ASSET                                                               5018.92  \nITAU UNIBANCO ASSET MANAGEMENT LTDA                                              4416.2  \nBB ASSET MANAGEMENT                                                             3067.27  \nSUL AMERICA INVESTIMENTOS GESTORA DE REC                                        2871.57  \nJGP GESTAO DE CREDITO LTDA                                                       808.54  \nSCHRODER BRASIL                                                                  800.57  \nBRAM BRADESCO ASSET MANAGEMENT SA DTVM                                           684.09  \nSANTANDER BRASIL GESTAO DE RECURSOS LTDA                                         521.37  \nXP ALLOCATION ASSET MANAGEMENT LTDA                                              410.27  \nXP ADVISORY GESTAO DE RECURSOS                                                   356.57  \nJGP GESTAO DE RECURSOS LTDA                                                      353.39  \nSICREDI                                                                          155.46  \nBRASILPREV SEGUROS E PREVIDENCIA SA                                              129.68  \nBLACKROCK BRASIL GESTORA DE INVESTIMENTO                                         108.94  \nBTG PACTUAL                                                                      104.83  \nBRADESCO                                                                          77.69  \nRIO BRAVO INVESTIMENTOS LTDA                                                      59.54  \nWRIGHT CAPITAL GESTAO DE RECURSOS                                                 41.14  \nITAU UNIBANCO SA                                                                  30.52  \nVOX CAPITAL GESTAO DE RECURSOS LTDA                                               29.46  \nBANCO SANTANDER (BRASIL) SA                                                       22.28  \nPLURAL                                                                            18.32  \nWARREN BRASIL GESTAO E ADM DE RECURSOS                                             7.32  \nITAU DTVM                                                                          5.39  \nCAIXA ASSET                                                                        4.35  \nBANCO J SAFRA SA                                                                   4.13  \nPLURAL INVESTIMENTOS GESTAO DE REC LTDA                                            3.59  \nWESTERN ASSET                                                                         0  ",
      "text/html": "<div>\n<style scoped>\n    .dataframe tbody tr th:only-of-type {\n        vertical-align: middle;\n    }\n\n    .dataframe tbody tr th {\n        vertical-align: top;\n    }\n\n    .dataframe thead th {\n        text-align: right;\n    }\n</style>\n<table border=\"1\" class=\"dataframe\">\n  <thead>\n    <tr style=\"text-align: right;\">\n      <th>Fundo ESG</th>\n      <th>Total</th>\n      <th>Sim</th>\n      <th>Não</th>\n      <th>Relacionado</th>\n      <th>Percentagem ESG</th>\n      <th>Patrimônio Líquido Total (em milhões de reais)</th>\n    </tr>\n    <tr>\n      <th>Gestor</th>\n      <th></th>\n      <th></th>\n      <th></th>\n      <th></th>\n      <th></th>\n      <th></th>\n    </tr>\n  </thead>\n  <tbody>\n    <tr>\n      <th>BNP PARIBAS ASSET</th>\n      <td>10</td>\n      <td>10</td>\n      <td>0</td>\n      <td>0</td>\n      <td>100</td>\n      <td>5018.92</td>\n    </tr>\n    <tr>\n      <th>ITAU UNIBANCO ASSET MANAGEMENT LTDA</th>\n      <td>14</td>\n      <td>12</td>\n      <td>2</td>\n      <td>0</td>\n      <td>85.71</td>\n      <td>4416.2</td>\n    </tr>\n    <tr>\n      <th>BB ASSET MANAGEMENT</th>\n      <td>29</td>\n      <td>16</td>\n      <td>9</td>\n      <td>4</td>\n      <td>55.17</td>\n      <td>3067.27</td>\n    </tr>\n    <tr>\n      <th>SUL AMERICA INVESTIMENTOS GESTORA DE REC</th>\n      <td>6</td>\n      <td>5</td>\n      <td>1</td>\n      <td>0</td>\n      <td>83.33</td>\n      <td>2871.57</td>\n    </tr>\n    <tr>\n      <th>JGP GESTAO DE CREDITO LTDA</th>\n      <td>4</td>\n      <td>4</td>\n      <td>0</td>\n      <td>0</td>\n      <td>100</td>\n      <td>808.54</td>\n    </tr>\n    <tr>\n      <th>SCHRODER BRASIL</th>\n      <td>3</td>\n      <td>3</td>\n      <td>0</td>\n      <td>0</td>\n      <td>100</td>\n      <td>800.57</td>\n    </tr>\n    <tr>\n      <th>BRAM BRADESCO ASSET MANAGEMENT SA DTVM</th>\n      <td>16</td>\n      <td>8</td>\n      <td>8</td>\n      <td>0</td>\n      <td>50</td>\n      <td>684.09</td>\n    </tr>\n    <tr>\n      <th>SANTANDER BRASIL GESTAO DE RECURSOS LTDA</th>\n      <td>4</td>\n      <td>3</td>\n      <td>1</td>\n      <td>0</td>\n      <td>75</td>\n      <td>521.37</td>\n    </tr>\n    <tr>\n      <th>XP ALLOCATION ASSET MANAGEMENT LTDA</th>\n      <td>11</td>\n      <td>2</td>\n      <td>9</td>\n      <td>0</td>\n      <td>18.18</td>\n      <td>410.27</td>\n    </tr>\n    <tr>\n      <th>XP ADVISORY GESTAO DE RECURSOS</th>\n      <td>1</td>\n      <td>0</td>\n      <td>1</td>\n      <td>0</td>\n      <td>0</td>\n      <td>356.57</td>\n    </tr>\n    <tr>\n      <th>JGP GESTAO DE RECURSOS LTDA</th>\n      <td>17</td>\n      <td>6</td>\n      <td>11</td>\n      <td>0</td>\n      <td>35.29</td>\n      <td>353.39</td>\n    </tr>\n    <tr>\n      <th>SICREDI</th>\n      <td>4</td>\n      <td>4</td>\n      <td>0</td>\n      <td>0</td>\n      <td>100</td>\n      <td>155.46</td>\n    </tr>\n    <tr>\n      <th>BRASILPREV SEGUROS E PREVIDENCIA SA</th>\n      <td>2</td>\n      <td>0</td>\n      <td>2</td>\n      <td>0</td>\n      <td>0</td>\n      <td>129.68</td>\n    </tr>\n    <tr>\n      <th>BLACKROCK BRASIL GESTORA DE INVESTIMENTO</th>\n      <td>1</td>\n      <td>0</td>\n      <td>1</td>\n      <td>0</td>\n      <td>0</td>\n      <td>108.94</td>\n    </tr>\n    <tr>\n      <th>BTG PACTUAL</th>\n      <td>4</td>\n      <td>1</td>\n      <td>3</td>\n      <td>0</td>\n      <td>25</td>\n      <td>104.83</td>\n    </tr>\n    <tr>\n      <th>BRADESCO</th>\n      <td>5</td>\n      <td>2</td>\n      <td>3</td>\n      <td>0</td>\n      <td>40</td>\n      <td>77.69</td>\n    </tr>\n    <tr>\n      <th>RIO BRAVO INVESTIMENTOS LTDA</th>\n      <td>1</td>\n      <td>0</td>\n      <td>1</td>\n      <td>0</td>\n      <td>0</td>\n      <td>59.54</td>\n    </tr>\n    <tr>\n      <th>WRIGHT CAPITAL GESTAO DE RECURSOS</th>\n      <td>2</td>\n      <td>2</td>\n      <td>0</td>\n      <td>0</td>\n      <td>100</td>\n      <td>41.14</td>\n    </tr>\n    <tr>\n      <th>ITAU UNIBANCO SA</th>\n      <td>1</td>\n      <td>1</td>\n      <td>0</td>\n      <td>0</td>\n      <td>100</td>\n      <td>30.52</td>\n    </tr>\n    <tr>\n      <th>VOX CAPITAL GESTAO DE RECURSOS LTDA</th>\n      <td>1</td>\n      <td>1</td>\n      <td>0</td>\n      <td>0</td>\n      <td>100</td>\n      <td>29.46</td>\n    </tr>\n    <tr>\n      <th>BANCO SANTANDER (BRASIL) SA</th>\n      <td>1</td>\n      <td>1</td>\n      <td>0</td>\n      <td>0</td>\n      <td>100</td>\n      <td>22.28</td>\n    </tr>\n    <tr>\n      <th>PLURAL</th>\n      <td>2</td>\n      <td>2</td>\n      <td>0</td>\n      <td>0</td>\n      <td>100</td>\n      <td>18.32</td>\n    </tr>\n    <tr>\n      <th>WARREN BRASIL GESTAO E ADM DE RECURSOS</th>\n      <td>1</td>\n      <td>1</td>\n      <td>0</td>\n      <td>0</td>\n      <td>100</td>\n      <td>7.32</td>\n    </tr>\n    <tr>\n      <th>ITAU DTVM</th>\n      <td>1</td>\n      <td>0</td>\n      <td>1</td>\n      <td>0</td>\n      <td>0</td>\n      <td>5.39</td>\n    </tr>\n    <tr>\n      <th>CAIXA ASSET</th>\n      <td>1</td>\n      <td>1</td>\n      <td>0</td>\n      <td>0</td>\n      <td>100</td>\n      <td>4.35</td>\n    </tr>\n    <tr>\n      <th>BANCO J SAFRA SA</th>\n      <td>1</td>\n      <td>0</td>\n      <td>1</td>\n      <td>0</td>\n      <td>0</td>\n      <td>4.13</td>\n    </tr>\n    <tr>\n      <th>PLURAL INVESTIMENTOS GESTAO DE REC LTDA</th>\n      <td>2</td>\n      <td>2</td>\n      <td>0</td>\n      <td>0</td>\n      <td>100</td>\n      <td>3.59</td>\n    </tr>\n    <tr>\n      <th>WESTERN ASSET</th>\n      <td>1</td>\n      <td>1</td>\n      <td>0</td>\n      <td>0</td>\n      <td>100</td>\n      <td>0</td>\n    </tr>\n  </tbody>\n</table>\n</div>"
     },
     "metadata": {},
     "output_type": "display_data"
    }
   ],
   "source": [
    "# Conversão da coluna 'Patrimônio Líquido' para numérica\n",
    "df['Patrimônio Líquido'] = (\n",
    "    df['Patrimônio Líquido']\n",
    "    .replace(r'R\\$', '', regex=True)\n",
    "    .replace(r'\\.', '', regex=True)\n",
    "    .replace(',', '.', regex=True)\n",
    "    .astype(float)\n",
    ")\n",
    "\n",
    "# Calculando o 'Patrimônio Líquido Total' por gestor em milhões\n",
    "patrimonio_total = df.groupby('Gestor')['Patrimônio Líquido'].sum() / 1e6\n",
    "\n",
    "# Criando a crosstab\n",
    "gestor_esg_counts = pd.crosstab(df['Gestor'], df['Fundo ESG'])\n",
    "gestor_esg_counts['Total'] = gestor_esg_counts.sum(axis=1)\n",
    "gestor_esg_counts['Percentagem ESG'] = (gestor_esg_counts['Sim'] / gestor_esg_counts['Total']) * 100\n",
    "\n",
    "# Inserindo 'Patrimônio Líquido Total (em milhões de reais)' no DataFrame de contagem\n",
    "gestor_esg_counts['Patrimônio Líquido Total (em milhões de reais)'] = gestor_esg_counts.index.map(patrimonio_total)\n",
    "\n",
    "# Ordenando e selecionando colunas\n",
    "colunas_ordenadas = ['Total', 'Sim', 'Não', 'Relacionado', 'Percentagem ESG', 'Patrimônio Líquido Total (em milhões de reais)']\n",
    "gestor_esg_counts_sorted = gestor_esg_counts.sort_values('Patrimônio Líquido Total (em milhões de reais)', ascending=False)\n",
    "gestor_esg_counts_ordenado = gestor_esg_counts_sorted[colunas_ordenadas]\n",
    "\n",
    "# Aplicando formatação para remover zeros finais e representar em milhões\n",
    "gestor_esg_counts_ordenado['Percentagem ESG'] = gestor_esg_counts_ordenado['Percentagem ESG'].map(lambda x: f\"{x:.2f}\".rstrip('0').rstrip('.'))\n",
    "gestor_esg_counts_ordenado['Patrimônio Líquido Total (em milhões de reais)'] = gestor_esg_counts_ordenado['Patrimônio Líquido Total (em milhões de reais)'].map(lambda x: f\"{x:.2f}\".rstrip('0').rstrip('.'))\n",
    "\n",
    "\n",
    "display(gestor_esg_counts_ordenado)\n",
    "gestor_esg_counts_ordenado.to_clipboard()\n",
    "gestor_esg_counts_ordenado.to_excel('temp.xlsx')\n"
   ],
   "metadata": {
    "collapsed": false,
    "ExecuteTime": {
     "end_time": "2024-06-02T21:22:40.176124Z",
     "start_time": "2024-06-02T21:22:37.318451Z"
    }
   },
   "id": "a1b9404a7dbb4364",
   "execution_count": 21
  },
  {
   "cell_type": "markdown",
   "source": [
    "#### Resposta: dos 10 principais gestores, 6 têm mais de 70% dos respectivos fundos considerados ESG pela Anbima. "
   ],
   "metadata": {
    "collapsed": false
   },
   "id": "94565287d6f2ac22"
  },
  {
   "cell_type": "markdown",
   "source": [
    "#### Patrimônio Líquido Total (todos os fundos): R$ 20,1 bi "
   ],
   "metadata": {
    "collapsed": false
   },
   "id": "228214d7a8204e1e"
  },
  {
   "cell_type": "code",
   "outputs": [
    {
     "data": {
      "text/plain": "20111.401780740005"
     },
     "execution_count": 15,
     "metadata": {},
     "output_type": "execute_result"
    }
   ],
   "source": [
    "patrimonio_total.sum()"
   ],
   "metadata": {
    "collapsed": false,
    "ExecuteTime": {
     "end_time": "2024-05-30T17:38:23.943869Z",
     "start_time": "2024-05-30T17:38:23.921311Z"
    }
   },
   "id": "30d153a41338e77d",
   "execution_count": 15
  },
  {
   "cell_type": "code",
   "outputs": [
    {
     "data": {
      "text/plain": "146"
     },
     "execution_count": 18,
     "metadata": {},
     "output_type": "execute_result"
    }
   ],
   "source": [
    "len(df)"
   ],
   "metadata": {
    "collapsed": false,
    "ExecuteTime": {
     "end_time": "2024-06-02T21:14:27.982359Z",
     "start_time": "2024-06-02T21:14:27.886756Z"
    }
   },
   "id": "392d2496ea68a31f",
   "execution_count": 18
  },
  {
   "cell_type": "markdown",
   "source": [
    "#### Rendimento médio anual: 6%"
   ],
   "metadata": {
    "collapsed": false
   },
   "id": "32637b0a9544a75c"
  },
  {
   "cell_type": "code",
   "outputs": [
    {
     "data": {
      "text/plain": "5.949109589041096"
     },
     "execution_count": 16,
     "metadata": {},
     "output_type": "execute_result"
    }
   ],
   "source": [
    "(df['Rentabilidade 12 meses'].replace(r'%', '', regex=True).replace(r',', '.', regex=True).astype(float)).sum()/len(df)"
   ],
   "metadata": {
    "collapsed": false,
    "ExecuteTime": {
     "end_time": "2024-05-30T17:38:39.500860Z",
     "start_time": "2024-05-30T17:38:39.486688Z"
    }
   },
   "id": "bbfc174130a28794",
   "execution_count": 16
  },
  {
   "cell_type": "code",
   "outputs": [],
   "source": [],
   "metadata": {
    "collapsed": false
   },
   "id": "53f9ce874c74d60f"
  }
 ],
 "metadata": {
  "kernelspec": {
   "display_name": "Python (fundos_esg)",
   "language": "python",
   "name": "venv"
  },
  "language_info": {
   "codemirror_mode": {
    "name": "ipython",
    "version": 3
   },
   "file_extension": ".py",
   "mimetype": "text/x-python",
   "name": "python",
   "nbconvert_exporter": "python",
   "pygments_lexer": "ipython3",
   "version": "3.12.2"
  }
 },
 "nbformat": 4,
 "nbformat_minor": 5
}
